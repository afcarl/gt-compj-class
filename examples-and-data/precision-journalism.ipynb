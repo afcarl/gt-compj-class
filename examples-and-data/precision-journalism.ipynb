{
 "cells": [
  {
   "cell_type": "markdown",
   "metadata": {},
   "source": [
    "Precision Journalism \n",
    "============\n",
    "\n",
    "Data science examples from [Precision Journalism](https://rowman.com/ISBN/9780742510883/Precision-Journalism-A-Reporter) by Philip Meyer."
   ]
  },
  {
   "cell_type": "markdown",
   "metadata": {},
   "source": [
    "## Detroit Data ##\n",
    "\n",
    "Here we will use a DataFrame to examine the data from the text."
   ]
  },
  {
   "cell_type": "code",
   "execution_count": 6,
   "metadata": {
    "collapsed": false
   },
   "outputs": [
    {
     "name": "stdout",
     "output_type": "stream",
     "text": [
      "Populating the interactive namespace from numpy and matplotlib\n"
     ]
    }
   ],
   "source": [
    "# this is a python library for data frames\n",
    "# which you can think of as spreadsheet-like objects\n",
    "import pandas as pd \n",
    "import numpy as np\n",
    "%pylab inline\n",
    "import matplotlib.pyplot as plt\n",
    "import seaborn as sns"
   ]
  },
  {
   "cell_type": "code",
   "execution_count": 6,
   "metadata": {
    "collapsed": false
   },
   "outputs": [],
   "source": [
    "pd_education = pd.DataFrame({'dropouts':{'rioters':18,'non-rioters':82},\n",
    "                             'high school':{'rioters':15,'non-rioters':85},\n",
    "                             'college':{'rioters':18,'non-rioters':82}})"
   ]
  },
  {
   "cell_type": "code",
   "execution_count": 7,
   "metadata": {
    "collapsed": false
   },
   "outputs": [
    {
     "data": {
      "text/html": [
       "<div>\n",
       "<table border=\"1\" class=\"dataframe\">\n",
       "  <thead>\n",
       "    <tr style=\"text-align: right;\">\n",
       "      <th></th>\n",
       "      <th>college</th>\n",
       "      <th>dropouts</th>\n",
       "      <th>high school</th>\n",
       "    </tr>\n",
       "  </thead>\n",
       "  <tbody>\n",
       "    <tr>\n",
       "      <th>non-rioters</th>\n",
       "      <td>82</td>\n",
       "      <td>82</td>\n",
       "      <td>85</td>\n",
       "    </tr>\n",
       "    <tr>\n",
       "      <th>rioters</th>\n",
       "      <td>18</td>\n",
       "      <td>18</td>\n",
       "      <td>15</td>\n",
       "    </tr>\n",
       "  </tbody>\n",
       "</table>\n",
       "</div>"
      ],
      "text/plain": [
       "             college  dropouts  high school\n",
       "non-rioters       82        82           85\n",
       "rioters           18        18           15"
      ]
     },
     "execution_count": 7,
     "metadata": {},
     "output_type": "execute_result"
    }
   ],
   "source": [
    "pd_education"
   ]
  },
  {
   "cell_type": "code",
   "execution_count": 8,
   "metadata": {
    "collapsed": true
   },
   "outputs": [],
   "source": [
    "pd_origin = pd.DataFrame({'south':{'rioters':8,'non-rioters':92},\n",
    "                         'north':{'rioters':25,'non-rioters':75}})"
   ]
  },
  {
   "cell_type": "code",
   "execution_count": 9,
   "metadata": {
    "collapsed": false
   },
   "outputs": [
    {
     "data": {
      "text/html": [
       "<div>\n",
       "<table border=\"1\" class=\"dataframe\">\n",
       "  <thead>\n",
       "    <tr style=\"text-align: right;\">\n",
       "      <th></th>\n",
       "      <th>north</th>\n",
       "      <th>south</th>\n",
       "    </tr>\n",
       "  </thead>\n",
       "  <tbody>\n",
       "    <tr>\n",
       "      <th>non-rioters</th>\n",
       "      <td>75</td>\n",
       "      <td>92</td>\n",
       "    </tr>\n",
       "    <tr>\n",
       "      <th>rioters</th>\n",
       "      <td>25</td>\n",
       "      <td>8</td>\n",
       "    </tr>\n",
       "  </tbody>\n",
       "</table>\n",
       "</div>"
      ],
      "text/plain": [
       "             north  south\n",
       "non-rioters     75     92\n",
       "rioters         25      8"
      ]
     },
     "execution_count": 9,
     "metadata": {},
     "output_type": "execute_result"
    }
   ],
   "source": [
    "pd_origin"
   ]
  },
  {
   "cell_type": "markdown",
   "metadata": {},
   "source": [
    "# Sampling and sample sizes #\n",
    "\n",
    "We worked on this in class."
   ]
  },
  {
   "cell_type": "code",
   "execution_count": 12,
   "metadata": {
    "collapsed": false
   },
   "outputs": [],
   "source": [
    "N = 10000\n",
    "N_samp = 100\n",
    "results_5 = np.zeros(N)\n",
    "results_1 = np.zeros(N)\n",
    "for i in xrange(N):\n",
    "    results_5[i] = sum(np.random.rand(N_samp) > .5) #world is 50% vegetarian\n",
    "    results_1[i] = sum(np.random.rand(N_samp) > .1) #world is 90% vegetarian"
   ]
  },
  {
   "cell_type": "code",
   "execution_count": 14,
   "metadata": {
    "collapsed": false
   },
   "outputs": [
    {
     "data": {
      "image/png": "[encoded data removed]",
      "text/plain": [
       "<matplotlib.figure.Figure at 0x7fae6f9b4d50>"
      ]
     },
     "metadata": {},
     "output_type": "display_data"
    }
   ],
   "source": [
    "figs,ax = plt.subplots(2,sharex=True)\n",
    "ax[0].hist(results_5/float(N_samp),bins=np.linspace(0,1,50))\n",
    "ax[1].hist(results_1/float(N_samp),bins=np.linspace(0,1,50));"
   ]
  },
  {
   "cell_type": "code",
   "execution_count": 22,
   "metadata": {
    "collapsed": false
   },
   "outputs": [
    {
     "name": "stdout",
     "output_type": "stream",
     "text": [
      "observed standard error 0.05\n",
      "computed stadnard error 0.049900787609\n"
     ]
    }
   ],
   "source": [
    "print 'observed standard error',sqrt(.5 * (1-.5) / N_samp)\n",
    "print 'computed stadnard error', np.std(results_5/float(N_samp))"
   ]
  },
  {
   "cell_type": "code",
   "execution_count": 23,
   "metadata": {
    "collapsed": false
   },
   "outputs": [
    {
     "name": "stdout",
     "output_type": "stream",
     "text": [
      "computed standard error 0.03\n",
      "observed standard error 0.0300851806709\n"
     ]
    }
   ],
   "source": [
    "print 'computed standard error',sqrt(.1 * (1-.1) / N_samp)\n",
    "print 'observed standard error',np.std(results_1/float(N_samp))"
   ]
  },
  {
   "cell_type": "markdown",
   "metadata": {},
   "source": [
    "95% confidence interval:"
   ]
  },
  {
   "cell_type": "code",
   "execution_count": 41,
   "metadata": {
    "collapsed": false
   },
   "outputs": [
    {
     "name": "stdout",
     "output_type": "stream",
     "text": [
      "0.9356\n"
     ]
    }
   ],
   "source": [
    "x = results_1/float(N_samp)\n",
    "mu = .9\n",
    "stderr = sqrt(mu * (1-mu) / N_samp)\n",
    "CI = ((x > mu - 2 * stderr) & (x < mu + 2 * stderr)).mean()\n",
    "print CI"
   ]
  },
  {
   "cell_type": "markdown",
   "metadata": {},
   "source": [
    "## Game theory (Chapter 2) ##"
   ]
  },
  {
   "cell_type": "code",
   "execution_count": 10,
   "metadata": {
    "collapsed": true
   },
   "outputs": [],
   "source": [
    "payoffs = np.array([[40.,100.],[100.,60.]])"
   ]
  },
  {
   "cell_type": "code",
   "execution_count": 11,
   "metadata": {
    "collapsed": true
   },
   "outputs": [],
   "source": [
    "expected_payoff = lambda a : payoffs[0,0] * a * a \\\n",
    "+ payoffs[0,1] * a * (1-a)\\\n",
    "+ payoffs[1,0] * (1-a) * a\\\n",
    "+ payoffs[1,1] * (1-a)*(1-a)"
   ]
  },
  {
   "cell_type": "code",
   "execution_count": 24,
   "metadata": {
    "collapsed": false
   },
   "outputs": [
    {
     "name": "stdout",
     "output_type": "stream",
     "text": [
      "40.0\n",
      "75.0\n",
      "76.0\n",
      "60.0\n"
     ]
    }
   ],
   "source": [
    "print expected_payoff(1)\n",
    "print expected_payoff(0.5)\n",
    "print expected_payoff(0.4)\n",
    "print expected_payoff(0.)"
   ]
  },
  {
   "cell_type": "code",
   "execution_count": 19,
   "metadata": {
    "collapsed": false
   },
   "outputs": [
    {
     "name": "stdout",
     "output_type": "stream",
     "text": [
      "Populating the interactive namespace from numpy and matplotlib\n"
     ]
    }
   ],
   "source": [
    "import matplotlib.pyplot as plt\n",
    "%pylab inline\n",
    "import seaborn as sns"
   ]
  },
  {
   "cell_type": "code",
   "execution_count": 29,
   "metadata": {
    "collapsed": false
   },
   "outputs": [
    {
     "data": {
      "image/png": "[encoded data removed]",
      "text/plain": [
       "<matplotlib.figure.Figure at 0x7fe20d7a8990>"
      ]
     },
     "metadata": {},
     "output_type": "display_data"
    }
   ],
   "source": [
    "strategies = np.linspace(0,1,100)\n",
    "plt.plot(strategies,expected_payoff(strategies));\n",
    "plt.xlabel('chance of going to snow valley')\n",
    "plt.ylabel('chance of being caught');"
   ]
  },
  {
   "cell_type": "markdown",
   "metadata": {},
   "source": [
    "## Curve Fitting (Chapter 3 ##\n",
    "\n",
    "Let's look at some election polling and fit some curves.\n",
    "\n",
    "Data is from [HuffPo](http://elections.huffingtonpost.com/pollster/2016-iowa-presidential-republican-caucus#!estimate=custom)"
   ]
  },
  {
   "cell_type": "code",
   "execution_count": 128,
   "metadata": {
    "collapsed": true
   },
   "outputs": [],
   "source": [
    "# pandas completely handles reading CSV files for you\n",
    "df_iowa = pd.read_csv('../data-and-demos/2016-iowa-presidential-republican-caucus.csv')"
   ]
  },
  {
   "cell_type": "code",
   "execution_count": 129,
   "metadata": {
    "collapsed": false
   },
   "outputs": [
    {
     "data": {
      "text/html": [
       "<div>\n",
       "<table border=\"1\" class=\"dataframe\">\n",
       "  <thead>\n",
       "    <tr style=\"text-align: right;\">\n",
       "      <th></th>\n",
       "      <th>Pollster</th>\n",
       "      <th>Start Date</th>\n",
       "      <th>End Date</th>\n",
       "      <th>Entry Date/Time (ET)</th>\n",
       "      <th>Number of Observations</th>\n",
       "      <th>Population</th>\n",
       "      <th>Mode</th>\n",
       "      <th>Trump</th>\n",
       "      <th>Cruz</th>\n",
       "      <th>Rubio</th>\n",
       "      <th>...</th>\n",
       "      <th>Gilmore</th>\n",
       "      <th>Graham</th>\n",
       "      <th>Jindal</th>\n",
       "      <th>Pataki</th>\n",
       "      <th>Perry</th>\n",
       "      <th>Walker</th>\n",
       "      <th>Pollster URL</th>\n",
       "      <th>Source URL</th>\n",
       "      <th>Partisan</th>\n",
       "      <th>Affiliation</th>\n",
       "    </tr>\n",
       "  </thead>\n",
       "  <tbody>\n",
       "    <tr>\n",
       "      <th>0</th>\n",
       "      <td>Gravis Marketing/One America News</td>\n",
       "      <td>2016-01-11</td>\n",
       "      <td>2016-01-12</td>\n",
       "      <td>2016-01-13 21:03:39 UTC 2016-01-13 21:03:39 UTC</td>\n",
       "      <td>422</td>\n",
       "      <td>Likely Voters - Republican</td>\n",
       "      <td>Automated Phone</td>\n",
       "      <td>34</td>\n",
       "      <td>28</td>\n",
       "      <td>5</td>\n",
       "      <td>...</td>\n",
       "      <td>NaN</td>\n",
       "      <td>NaN</td>\n",
       "      <td>NaN</td>\n",
       "      <td>NaN</td>\n",
       "      <td>NaN</td>\n",
       "      <td>NaN</td>\n",
       "      <td>http://elections.huffingtonpost.com/pollster/p...</td>\n",
       "      <td>NaN</td>\n",
       "      <td>Sponsor</td>\n",
       "      <td>Rep</td>\n",
       "    </tr>\n",
       "    <tr>\n",
       "      <th>1</th>\n",
       "      <td>PPP (D)</td>\n",
       "      <td>2016-01-08</td>\n",
       "      <td>2016-01-10</td>\n",
       "      <td>2016-01-12 17:14:24 UTC 2016-01-12 17:14:24 UTC</td>\n",
       "      <td>530</td>\n",
       "      <td>Likely Voters - Republican</td>\n",
       "      <td>IVR/Online</td>\n",
       "      <td>28</td>\n",
       "      <td>26</td>\n",
       "      <td>13</td>\n",
       "      <td>...</td>\n",
       "      <td>0</td>\n",
       "      <td>NaN</td>\n",
       "      <td>NaN</td>\n",
       "      <td>NaN</td>\n",
       "      <td>NaN</td>\n",
       "      <td>NaN</td>\n",
       "      <td>http://elections.huffingtonpost.com/pollster/p...</td>\n",
       "      <td>NaN</td>\n",
       "      <td>Pollster</td>\n",
       "      <td>Dem</td>\n",
       "    </tr>\n",
       "    <tr>\n",
       "      <th>2</th>\n",
       "      <td>Des Moines Register/Bloomberg/Selzer</td>\n",
       "      <td>2016-01-07</td>\n",
       "      <td>2016-01-10</td>\n",
       "      <td>2016-01-13 11:53:11 UTC 2016-01-13 11:53:11 UTC</td>\n",
       "      <td>500</td>\n",
       "      <td>Likely Voters - Republican</td>\n",
       "      <td>Live Phone</td>\n",
       "      <td>22</td>\n",
       "      <td>25</td>\n",
       "      <td>12</td>\n",
       "      <td>...</td>\n",
       "      <td>0</td>\n",
       "      <td>NaN</td>\n",
       "      <td>NaN</td>\n",
       "      <td>NaN</td>\n",
       "      <td>NaN</td>\n",
       "      <td>NaN</td>\n",
       "      <td>http://elections.huffingtonpost.com/pollster/p...</td>\n",
       "      <td>NaN</td>\n",
       "      <td>Nonpartisan</td>\n",
       "      <td>None</td>\n",
       "    </tr>\n",
       "    <tr>\n",
       "      <th>3</th>\n",
       "      <td>ARG</td>\n",
       "      <td>2016-01-06</td>\n",
       "      <td>2016-01-10</td>\n",
       "      <td>2016-01-11 18:58:06 UTC 2016-01-11 18:58:06 UTC</td>\n",
       "      <td>600</td>\n",
       "      <td>Likely Voters - Republican</td>\n",
       "      <td>Live Phone</td>\n",
       "      <td>29</td>\n",
       "      <td>25</td>\n",
       "      <td>10</td>\n",
       "      <td>...</td>\n",
       "      <td>NaN</td>\n",
       "      <td>NaN</td>\n",
       "      <td>NaN</td>\n",
       "      <td>NaN</td>\n",
       "      <td>NaN</td>\n",
       "      <td>NaN</td>\n",
       "      <td>http://elections.huffingtonpost.com/pollster/p...</td>\n",
       "      <td>NaN</td>\n",
       "      <td>Nonpartisan</td>\n",
       "      <td>None</td>\n",
       "    </tr>\n",
       "    <tr>\n",
       "      <th>4</th>\n",
       "      <td>Quinnipiac</td>\n",
       "      <td>2016-01-05</td>\n",
       "      <td>2016-01-10</td>\n",
       "      <td>2016-01-11 17:39:23 UTC 2016-01-11 17:39:23 UTC</td>\n",
       "      <td>602</td>\n",
       "      <td>Likely Voters - Republican</td>\n",
       "      <td>Live Phone</td>\n",
       "      <td>31</td>\n",
       "      <td>29</td>\n",
       "      <td>15</td>\n",
       "      <td>...</td>\n",
       "      <td>NaN</td>\n",
       "      <td>NaN</td>\n",
       "      <td>NaN</td>\n",
       "      <td>NaN</td>\n",
       "      <td>NaN</td>\n",
       "      <td>NaN</td>\n",
       "      <td>http://elections.huffingtonpost.com/pollster/p...</td>\n",
       "      <td>NaN</td>\n",
       "      <td>Nonpartisan</td>\n",
       "      <td>None</td>\n",
       "    </tr>\n",
       "  </tbody>\n",
       "</table>\n",
       "<p>5 rows × 28 columns</p>\n",
       "</div>"
      ],
      "text/plain": [
       "                               Pollster  Start Date    End Date  \\\n",
       "0     Gravis Marketing/One America News  2016-01-11  2016-01-12   \n",
       "1                               PPP (D)  2016-01-08  2016-01-10   \n",
       "2  Des Moines Register/Bloomberg/Selzer  2016-01-07  2016-01-10   \n",
       "3                                   ARG  2016-01-06  2016-01-10   \n",
       "4                            Quinnipiac  2016-01-05  2016-01-10   \n",
       "\n",
       "                              Entry Date/Time (ET)  Number of Observations  \\\n",
       "0  2016-01-13 21:03:39 UTC 2016-01-13 21:03:39 UTC                     422   \n",
       "1  2016-01-12 17:14:24 UTC 2016-01-12 17:14:24 UTC                     530   \n",
       "2  2016-01-13 11:53:11 UTC 2016-01-13 11:53:11 UTC                     500   \n",
       "3  2016-01-11 18:58:06 UTC 2016-01-11 18:58:06 UTC                     600   \n",
       "4  2016-01-11 17:39:23 UTC 2016-01-11 17:39:23 UTC                     602   \n",
       "\n",
       "                   Population             Mode  Trump  Cruz  Rubio  \\\n",
       "0  Likely Voters - Republican  Automated Phone     34    28      5   \n",
       "1  Likely Voters - Republican       IVR/Online     28    26     13   \n",
       "2  Likely Voters - Republican       Live Phone     22    25     12   \n",
       "3  Likely Voters - Republican       Live Phone     29    25     10   \n",
       "4  Likely Voters - Republican       Live Phone     31    29     15   \n",
       "\n",
       "      ...       Gilmore  Graham  Jindal  Pataki  Perry  Walker  \\\n",
       "0     ...           NaN     NaN     NaN     NaN    NaN     NaN   \n",
       "1     ...             0     NaN     NaN     NaN    NaN     NaN   \n",
       "2     ...             0     NaN     NaN     NaN    NaN     NaN   \n",
       "3     ...           NaN     NaN     NaN     NaN    NaN     NaN   \n",
       "4     ...           NaN     NaN     NaN     NaN    NaN     NaN   \n",
       "\n",
       "                                        Pollster URL  Source URL     Partisan  \\\n",
       "0  http://elections.huffingtonpost.com/pollster/p...         NaN      Sponsor   \n",
       "1  http://elections.huffingtonpost.com/pollster/p...         NaN     Pollster   \n",
       "2  http://elections.huffingtonpost.com/pollster/p...         NaN  Nonpartisan   \n",
       "3  http://elections.huffingtonpost.com/pollster/p...         NaN  Nonpartisan   \n",
       "4  http://elections.huffingtonpost.com/pollster/p...         NaN  Nonpartisan   \n",
       "\n",
       "   Affiliation  \n",
       "0          Rep  \n",
       "1          Dem  \n",
       "2         None  \n",
       "3         None  \n",
       "4         None  \n",
       "\n",
       "[5 rows x 28 columns]"
      ]
     },
     "execution_count": 129,
     "metadata": {},
     "output_type": "execute_result"
    }
   ],
   "source": [
    "# head gives a quick summary of the dataframe\n",
    "df_iowa.head()"
   ]
  },
  {
   "cell_type": "markdown",
   "metadata": {},
   "source": [
    "Let's plot some poll results."
   ]
  },
  {
   "cell_type": "code",
   "execution_count": 130,
   "metadata": {
    "collapsed": true
   },
   "outputs": [],
   "source": [
    "dates = pd.to_datetime(df_iowa['End Date'])"
   ]
  },
  {
   "cell_type": "code",
   "execution_count": 131,
   "metadata": {
    "collapsed": false
   },
   "outputs": [
    {
     "data": {
      "image/png": "[encoded data removed]",
      "text/plain": [
       "<matplotlib.figure.Figure at 0x7f5c198943d0>"
      ]
     },
     "metadata": {},
     "output_type": "display_data"
    }
   ],
   "source": [
    "plt.plot(dates,df_iowa.Trump,'.')\n",
    "plt.plot(dates,df_iowa.Cruz,'*')\n",
    "plt.plot(dates,df_iowa.Carson,'d')\n",
    "\n",
    "plt.legend(['Trump','Cruz','Carson'],loc='upper left')\n",
    "plt.ylabel('support')\n",
    "plt.xlabel('date');"
   ]
  },
  {
   "cell_type": "markdown",
   "metadata": {},
   "source": [
    "Let's connect the points with lines"
   ]
  },
  {
   "cell_type": "code",
   "execution_count": 132,
   "metadata": {
    "collapsed": false
   },
   "outputs": [
    {
     "data": {
      "image/png": "[encoded data removed]",
      "text/plain": [
       "<matplotlib.figure.Figure at 0x7f5c19376910>"
      ]
     },
     "metadata": {},
     "output_type": "display_data"
    }
   ],
   "source": [
    "plt.plot(dates,df_iowa.Trump,'-')\n",
    "plt.plot(dates,df_iowa.Cruz,':')\n",
    "plt.plot(dates,df_iowa.Carson,'--')\n",
    "\n",
    "plt.legend(['Trump','Cruz','Carson'],loc='upper left')\n",
    "plt.ylabel('support')\n",
    "plt.xlabel('date');"
   ]
  },
  {
   "cell_type": "markdown",
   "metadata": {},
   "source": [
    "This is arguably too jaggedy: \"The theory behind smoothing is that measurement error is a secular trend, and can be taken out by using each point as a check on the neighboring points\" (Meyer pg 46). \n",
    "\n",
    "Let's try smoothing these points, using Panda's [exponentially-weighted moving average](http://pandas.pydata.org/pandas-docs/stable/generated/pandas.ewma.html)"
   ]
  },
  {
   "cell_type": "code",
   "execution_count": 134,
   "metadata": {
    "collapsed": false
   },
   "outputs": [
    {
     "data": {
      "image/png": "[encoded data removed]",
      "text/plain": [
       "<matplotlib.figure.Figure at 0x7f5c19c7ee90>"
      ]
     },
     "metadata": {},
     "output_type": "display_data"
    }
   ],
   "source": [
    "keys = ['Trump','Cruz','Rubio']\n",
    "shapes = ['-',':','--']\n",
    "for key,shape in zip(keys,shapes):\n",
    "    plt.plot(dates,np.array(pd.ewma(df_iowa[key],span=10)),shape)\n",
    "plt.legend(shapes,loc='best');\n",
    "plt.xlabel('date')\n",
    "plt.ylabel('support');"
   ]
  },
  {
   "cell_type": "markdown",
   "metadata": {},
   "source": [
    "Let's abstract this into a function."
   ]
  },
  {
   "cell_type": "code",
   "execution_count": 139,
   "metadata": {
    "collapsed": true
   },
   "outputs": [],
   "source": [
    "def makePlot(keys,ewma_span,data):\n",
    "    dates = pd.to_datetime(data['End Date'])\n",
    "    shapes = ['-',':','--']\n",
    "    for i,key in enumerate(keys):\n",
    "        shape = shapes[i % 3]\n",
    "        plt.plot(dates,np.array(pd.ewma(data[key],span=ewma_span)),shape)\n",
    "    plt.legend(keys,loc='upper left');\n",
    "    plt.xlabel('date')\n",
    "    plt.ylabel('support')"
   ]
  },
  {
   "cell_type": "code",
   "execution_count": 140,
   "metadata": {
    "collapsed": false
   },
   "outputs": [
    {
     "data": {
      "image/png": "[encoded data removed]",
      "text/plain": [
       "<matplotlib.figure.Figure at 0x7f5c192976d0>"
      ]
     },
     "metadata": {},
     "output_type": "display_data"
    }
   ],
   "source": [
    "makePlot(['Trump','Rubio','Carson'],5,df_iowa)"
   ]
  },
  {
   "cell_type": "code",
   "execution_count": 141,
   "metadata": {
    "collapsed": false
   },
   "outputs": [
    {
     "data": {
      "image/png": "[encoded data removed]",
      "text/plain": [
       "<matplotlib.figure.Figure at 0x7f5c191ddd90>"
      ]
     },
     "metadata": {},
     "output_type": "display_data"
    }
   ],
   "source": [
    "makePlot(['Trump','Rubio','Carson','Cruz'],50,df_iowa)"
   ]
  },
  {
   "cell_type": "markdown",
   "metadata": {},
   "source": [
    "## Detroit data ##\n",
    "\n",
    "Data from page 68, \"Where were you brought up as a child?\"\n",
    "\n",
    "- Row = \"rioter/non-rioter\"\n",
    "- Col = \"South/North\""
   ]
  },
  {
   "cell_type": "code",
   "execution_count": 1,
   "metadata": {
    "collapsed": true
   },
   "outputs": [],
   "source": [
    "import numpy as np"
   ]
  },
  {
   "cell_type": "code",
   "execution_count": 2,
   "metadata": {
    "collapsed": true
   },
   "outputs": [],
   "source": [
    "x = np.array([[19,51],[218,149]])"
   ]
  },
  {
   "cell_type": "markdown",
   "metadata": {},
   "source": [
    "### Chi-Squared Test ###"
   ]
  },
  {
   "cell_type": "code",
   "execution_count": 66,
   "metadata": {
    "collapsed": true
   },
   "outputs": [],
   "source": [
    "chi2 = lambda x : (x.sum() * (x[0,0] * x[1,1] - x[1,0] * x[0,1])**2) /\\\n",
    "float(x[0,].sum() * x[1,].sum() * x[:,0].sum() * x[:,1].sum())"
   ]
  },
  {
   "cell_type": "code",
   "execution_count": 67,
   "metadata": {
    "collapsed": false
   },
   "outputs": [
    {
     "name": "stdout",
     "output_type": "stream",
     "text": [
      "24.6452750114\n"
     ]
    }
   ],
   "source": [
    "print chi2(x)"
   ]
  },
  {
   "cell_type": "code",
   "execution_count": 39,
   "metadata": {
    "collapsed": true
   },
   "outputs": [],
   "source": [
    "from scipy.stats import chi2_contingency,chisquare"
   ]
  },
  {
   "cell_type": "code",
   "execution_count": 265,
   "metadata": {
    "collapsed": false
   },
   "outputs": [],
   "source": [
    "chi2_computed,pval,dof,expected = chi2_contingency(x,correction=False)"
   ]
  },
  {
   "cell_type": "code",
   "execution_count": 266,
   "metadata": {
    "collapsed": false
   },
   "outputs": [
    {
     "name": "stdout",
     "output_type": "stream",
     "text": [
      "24.6452750114 6.89135087726e-07 1 [[  37.96338673   32.03661327]\n",
      " [ 199.03661327  167.96338673]]\n"
     ]
    }
   ],
   "source": [
    "print chi2_computed, pval, dof, expected"
   ]
  },
  {
   "cell_type": "markdown",
   "metadata": {},
   "source": [
    "Let's make it a closer case.\n",
    "Suppose we had only $20\\%$ as much data."
   ]
  },
  {
   "cell_type": "code",
   "execution_count": 168,
   "metadata": {
    "collapsed": false
   },
   "outputs": [],
   "source": [
    "x_samp = np.random.multinomial(x.sum()/5,\n",
    "                               (x / float(x.sum())).reshape(4)).reshape(2,2)"
   ]
  },
  {
   "cell_type": "code",
   "execution_count": 222,
   "metadata": {
    "collapsed": false
   },
   "outputs": [
    {
     "name": "stdout",
     "output_type": "stream",
     "text": [
      "[[ 19  51]\n",
      " [218 149]]\n",
      "[[ 4 15]\n",
      " [39 29]]\n"
     ]
    }
   ],
   "source": [
    "print x\n",
    "print x_samp"
   ]
  },
  {
   "cell_type": "code",
   "execution_count": 267,
   "metadata": {
    "collapsed": false
   },
   "outputs": [
    {
     "name": "stdout",
     "output_type": "stream",
     "text": [
      "7.82854932615 0.00514273582535\n"
     ]
    }
   ],
   "source": [
    "chi2_computed,pval,dof,expected = chi2_contingency(x_samp,correction=False)\n",
    "print chi2_computed, pval"
   ]
  },
  {
   "cell_type": "markdown",
   "metadata": {},
   "source": [
    "#### P-values as probabilities #### \n",
    "The $p$-value computed from the chi-squared test is a probability: specifically, it's the probability of the chi-squared statistic being at least this large in a sample of this size, under the null hypothesis.\n",
    "\n",
    "This means that if we simulate from the null hypothesis enough times, we can reconstruct the same value.\n",
    "\n",
    "Let's do try it."
   ]
  },
  {
   "cell_type": "markdown",
   "metadata": {},
   "source": [
    "The null hypothesis is that the two contingencies -- participating in the unrest, and being from the south -- are unrelated. Each person's chance of each contingency is an independent draw from the *marginal probability* associated with each contingency. Let's compute those marginals."
   ]
  },
  {
   "cell_type": "code",
   "execution_count": 268,
   "metadata": {
    "collapsed": false
   },
   "outputs": [
    {
     "name": "stdout",
     "output_type": "stream",
     "text": [
      "[ 0.49425287  0.50574713]\n",
      "[ 0.2183908  0.7816092]\n"
     ]
    }
   ],
   "source": [
    "p_southern_marginal = x_samp.sum(axis=0) / float(x_samp.sum())\n",
    "p_riot_marginal = x_samp.sum(axis=1)/float(x_samp.sum())\n",
    "print p_southern_marginal\n",
    "print p_riot_marginal"
   ]
  },
  {
   "cell_type": "markdown",
   "metadata": {},
   "source": [
    "In the null hypothesis, the two contingencies are independent, as in $P(x,y) = P(x) \\times P(y)$.\n",
    "\n",
    "Mathematically, we can represent the joint probability as an outer product of the two probability distributions"
   ]
  },
  {
   "cell_type": "code",
   "execution_count": 269,
   "metadata": {
    "collapsed": false
   },
   "outputs": [
    {
     "name": "stdout",
     "output_type": "stream",
     "text": [
      "0.107940282732 0.110450521866\n",
      "0.386312590831 0.395296604571\n",
      "[[ 0.10794028  0.11045052]\n",
      " [ 0.38631259  0.3952966 ]]\n"
     ]
    }
   ],
   "source": [
    "print p_southern_marginal[0] * p_riot_marginal[0], p_southern_marginal[1] * p_riot_marginal[0]\n",
    "print p_southern_marginal[0] * p_riot_marginal[1], p_southern_marginal[1] * p_riot_marginal[1]\n",
    "\n",
    "p_contingent_null = np.outer(p_riot_marginal,p_southern_marginal)\n",
    "print p_contingent_null"
   ]
  },
  {
   "cell_type": "markdown",
   "metadata": {},
   "source": [
    "To simulate counts from the null distribution, we use the *multinomial* probability, which is a distribution over counts of discrete events."
   ]
  },
  {
   "cell_type": "code",
   "execution_count": 272,
   "metadata": {
    "collapsed": false
   },
   "outputs": [
    {
     "name": "stdout",
     "output_type": "stream",
     "text": [
      "[[  9.3908046   9.6091954]\n",
      " [ 33.6091954  34.3908046]]\n",
      "[[  9.3908046   9.6091954]\n",
      " [ 33.6091954  34.3908046]]\n"
     ]
    }
   ],
   "source": [
    "print expected\n",
    "print p_contingent_null * x_samp.sum()"
   ]
  },
  {
   "cell_type": "code",
   "execution_count": 270,
   "metadata": {
    "collapsed": false
   },
   "outputs": [
    {
     "name": "stdout",
     "output_type": "stream",
     "text": [
      "[[ 8 16]\n",
      " [33 30]]\n"
     ]
    }
   ],
   "source": [
    "# the first parameter is the total number of counts\n",
    "# the second parameter is the null distribution reshaped into a vector\n",
    "rand_x_vec = np.random.multinomial(x_samp.sum(),p_contingent_null.reshape(4))\n",
    "# we then reshape the vector back into a matrix\n",
    "rand_x = rand_x_vec.reshape(2,2)\n",
    "print rand_x"
   ]
  },
  {
   "cell_type": "markdown",
   "metadata": {},
   "source": [
    "Now we want to know how often does the simulated chi-squared value exceed the observed chi-squared value from our data. This is what is meant by the $p$-value."
   ]
  },
  {
   "cell_type": "code",
   "execution_count": 312,
   "metadata": {
    "collapsed": true
   },
   "outputs": [],
   "source": [
    "N_samp = 50000\n",
    "sim_chi_sq = np.zeros(N_samp)\n",
    "for i in xrange(N_samp):\n",
    "    rand_x = np.random.multinomial(x_samp.sum(),p_contingent_null.reshape(4)).reshape(2,2)\n",
    "    sim_chi_sq[i] = chi2(rand_x)"
   ]
  },
  {
   "cell_type": "code",
   "execution_count": 313,
   "metadata": {
    "collapsed": false
   },
   "outputs": [
    {
     "name": "stdout",
     "output_type": "stream",
     "text": [
      "0.00514 0.00514273582535\n"
     ]
    }
   ],
   "source": [
    "p_empirical = (sim_chi_sq > chi2_computed).mean()\n",
    "print p_empirical, pval"
   ]
  },
  {
   "cell_type": "code",
   "execution_count": 321,
   "metadata": {
    "collapsed": false
   },
   "outputs": [
    {
     "data": {
      "image/png": "[encoded data removed]",
      "text/plain": [
       "<matplotlib.figure.Figure at 0x7f02582e8c50>"
      ]
     },
     "metadata": {},
     "output_type": "display_data"
    }
   ],
   "source": [
    "N_samp = 100000\n",
    "ref_N = np.logspace(1,np.log10(N_samp),10).astype(int)\n",
    "for _ in xrange(5):\n",
    "    sim_chi_sq = np.zeros(N_samp)\n",
    "    ref_vals = []\n",
    "    for i in xrange(N_samp):\n",
    "        rand_x = np.random.multinomial(x_samp.sum(),p_contingent_null.reshape(4)).reshape(2,2)\n",
    "        sim_chi_sq[i] = chi2(rand_x)\n",
    "        if (i+1) in ref_N:\n",
    "            ref_vals.append((sim_chi_sq[:i] > chi2_computed).mean())\n",
    "    plt.semilogx(ref_N,ref_vals,'o-')"
   ]
  },
  {
   "cell_type": "markdown",
   "metadata": {},
   "source": [
    "# Chapter 5: Presidential approval data #"
   ]
  },
  {
   "cell_type": "code",
   "execution_count": 1,
   "metadata": {
    "collapsed": true
   },
   "outputs": [],
   "source": [
    "import pandas as pd"
   ]
  },
  {
   "cell_type": "code",
   "execution_count": 2,
   "metadata": {
    "collapsed": true
   },
   "outputs": [],
   "source": [
    "df = pd.read_csv('../data-and-demos/pj-president-approval.csv')"
   ]
  },
  {
   "cell_type": "code",
   "execution_count": 3,
   "metadata": {
    "collapsed": false
   },
   "outputs": [
    {
     "data": {
      "text/html": [
       "<div>\n",
       "<table border=\"1\" class=\"dataframe\">\n",
       "  <thead>\n",
       "    <tr style=\"text-align: right;\">\n",
       "      <th></th>\n",
       "      <th>Name</th>\n",
       "      <th>Rating</th>\n",
       "      <th>Party</th>\n",
       "      <th>Inaugural</th>\n",
       "    </tr>\n",
       "  </thead>\n",
       "  <tbody>\n",
       "    <tr>\n",
       "      <th>0</th>\n",
       "      <td>Truman</td>\n",
       "      <td>45.28</td>\n",
       "      <td>1</td>\n",
       "      <td>1944</td>\n",
       "    </tr>\n",
       "    <tr>\n",
       "      <th>1</th>\n",
       "      <td>Ike</td>\n",
       "      <td>65.03</td>\n",
       "      <td>2</td>\n",
       "      <td>1953</td>\n",
       "    </tr>\n",
       "    <tr>\n",
       "      <th>2</th>\n",
       "      <td>JFK</td>\n",
       "      <td>70.10</td>\n",
       "      <td>1</td>\n",
       "      <td>1961</td>\n",
       "    </tr>\n",
       "    <tr>\n",
       "      <th>3</th>\n",
       "      <td>LBJ</td>\n",
       "      <td>55.10</td>\n",
       "      <td>1</td>\n",
       "      <td>1963</td>\n",
       "    </tr>\n",
       "    <tr>\n",
       "      <th>4</th>\n",
       "      <td>Nixon</td>\n",
       "      <td>49.02</td>\n",
       "      <td>2</td>\n",
       "      <td>1969</td>\n",
       "    </tr>\n",
       "    <tr>\n",
       "      <th>5</th>\n",
       "      <td>Ford</td>\n",
       "      <td>47.19</td>\n",
       "      <td>2</td>\n",
       "      <td>1973</td>\n",
       "    </tr>\n",
       "    <tr>\n",
       "      <th>6</th>\n",
       "      <td>Carter</td>\n",
       "      <td>45.48</td>\n",
       "      <td>1</td>\n",
       "      <td>1977</td>\n",
       "    </tr>\n",
       "    <tr>\n",
       "      <th>7</th>\n",
       "      <td>Reagan</td>\n",
       "      <td>52.79</td>\n",
       "      <td>2</td>\n",
       "      <td>1981</td>\n",
       "    </tr>\n",
       "    <tr>\n",
       "      <th>8</th>\n",
       "      <td>Bush</td>\n",
       "      <td>60.86</td>\n",
       "      <td>2</td>\n",
       "      <td>1989</td>\n",
       "    </tr>\n",
       "    <tr>\n",
       "      <th>9</th>\n",
       "      <td>Clinton</td>\n",
       "      <td>55.10</td>\n",
       "      <td>1</td>\n",
       "      <td>1993</td>\n",
       "    </tr>\n",
       "  </tbody>\n",
       "</table>\n",
       "</div>"
      ],
      "text/plain": [
       "      Name  Rating  Party  Inaugural\n",
       "0   Truman   45.28      1       1944\n",
       "1      Ike   65.03      2       1953\n",
       "2      JFK   70.10      1       1961\n",
       "3      LBJ   55.10      1       1963\n",
       "4    Nixon   49.02      2       1969\n",
       "5     Ford   47.19      2       1973\n",
       "6   Carter   45.48      1       1977\n",
       "7   Reagan   52.79      2       1981\n",
       "8     Bush   60.86      2       1989\n",
       "9  Clinton   55.10      1       1993"
      ]
     },
     "execution_count": 3,
     "metadata": {},
     "output_type": "execute_result"
    }
   ],
   "source": [
    "df"
   ]
  },
  {
   "cell_type": "markdown",
   "metadata": {},
   "source": [
    "## Basic data description ##"
   ]
  },
  {
   "cell_type": "code",
   "execution_count": 18,
   "metadata": {
    "collapsed": false
   },
   "outputs": [
    {
     "data": {
      "text/plain": [
       "count    10.000000\n",
       "mean     54.595000\n",
       "std       8.485803\n",
       "min      45.280000\n",
       "50%      53.945000\n",
       "max      70.100000\n",
       "Name: Rating, dtype: float64"
      ]
     },
     "execution_count": 18,
     "metadata": {},
     "output_type": "execute_result"
    }
   ],
   "source": [
    "df.Rating.describe(percentiles=[])"
   ]
  },
  {
   "cell_type": "markdown",
   "metadata": {},
   "source": [
    "## Stem-and-leaf ##\n",
    "\n",
    "No native support for \"stem-and-leaf\", but I found a code [here](http://pirsquared.org/blog/stem-tweet.html)."
   ]
  },
  {
   "cell_type": "code",
   "execution_count": 5,
   "metadata": {
    "collapsed": true
   },
   "outputs": [],
   "source": [
    "from __future__ import print_function\n",
    "import numpy as np\n",
    "def stem(d):\n",
    "    \"A stem-and-leaf plot that fits in a tweet by @ivanov\"\n",
    "    l,t=np.sort(d),10\n",
    "    O=range(l[0]-l[0]%t,l[-1]+11,t)\n",
    "    I=np.searchsorted(l,O)\n",
    "    for e,a,f in zip(I,I[1:],O): print('%3d|'%(f/t),*(l[e:a]-f),sep='')\n"
   ]
  },
  {
   "cell_type": "code",
   "execution_count": 6,
   "metadata": {
    "collapsed": false
   },
   "outputs": [
    {
     "name": "stdout",
     "output_type": "stream",
     "text": [
      "  4|5579\n",
      "  5|255\n",
      "  6|05\n",
      "  7|0\n"
     ]
    }
   ],
   "source": [
    "stem(df.Rating.astype(int))"
   ]
  },
  {
   "cell_type": "markdown",
   "metadata": {},
   "source": [
    "## Grouping by political party ##\n",
    "\n",
    "Page 89 shows grouping by party. The format there is a little nicer, but Pandas groupby + describe gives the same information."
   ]
  },
  {
   "cell_type": "code",
   "execution_count": 13,
   "metadata": {
    "collapsed": false
   },
   "outputs": [
    {
     "data": {
      "text/plain": [
       "Party       \n",
       "1      count     5.000000\n",
       "       mean     54.212000\n",
       "       std      10.124649\n",
       "       min      45.280000\n",
       "       50%      55.100000\n",
       "       max      70.100000\n",
       "2      count     5.000000\n",
       "       mean     54.978000\n",
       "       std       7.690557\n",
       "       min      47.190000\n",
       "       50%      52.790000\n",
       "       max      65.030000\n",
       "dtype: float64"
      ]
     },
     "execution_count": 13,
     "metadata": {},
     "output_type": "execute_result"
    }
   ],
   "source": [
    "df.groupby('Party')['Rating'].describe(percentiles=[])"
   ]
  },
  {
   "cell_type": "markdown",
   "metadata": {},
   "source": [
    "## Cross-tabulation ##"
   ]
  },
  {
   "cell_type": "code",
   "execution_count": 30,
   "metadata": {
    "collapsed": true
   },
   "outputs": [],
   "source": [
    "df['Popular'] = (df['Rating'] > 53.5)"
   ]
  },
  {
   "cell_type": "code",
   "execution_count": 31,
   "metadata": {
    "collapsed": false
   },
   "outputs": [
    {
     "data": {
      "text/html": [
       "<div>\n",
       "<table border=\"1\" class=\"dataframe\">\n",
       "  <thead>\n",
       "    <tr style=\"text-align: right;\">\n",
       "      <th>Popular</th>\n",
       "      <th>False</th>\n",
       "      <th>True</th>\n",
       "    </tr>\n",
       "    <tr>\n",
       "      <th>Party</th>\n",
       "      <th></th>\n",
       "      <th></th>\n",
       "    </tr>\n",
       "  </thead>\n",
       "  <tbody>\n",
       "    <tr>\n",
       "      <th>1</th>\n",
       "      <td>2</td>\n",
       "      <td>3</td>\n",
       "    </tr>\n",
       "    <tr>\n",
       "      <th>2</th>\n",
       "      <td>3</td>\n",
       "      <td>2</td>\n",
       "    </tr>\n",
       "  </tbody>\n",
       "</table>\n",
       "</div>"
      ],
      "text/plain": [
       "Popular  False  True \n",
       "Party                \n",
       "1            2      3\n",
       "2            3      2"
      ]
     },
     "execution_count": 31,
     "metadata": {},
     "output_type": "execute_result"
    }
   ],
   "source": [
    "pd.crosstab(df['Party'],df['Popular'])"
   ]
  },
  {
   "cell_type": "markdown",
   "metadata": {},
   "source": [
    "## Sorting and z-scores ##\n",
    "\n",
    "SPSS ```summarize``` apparently sorts and provides z-scores in a single command.\n",
    "\n",
    "I don't think there's a single Pandas command to do this, but it's not difficult make it happen."
   ]
  },
  {
   "cell_type": "code",
   "execution_count": 39,
   "metadata": {
    "collapsed": true
   },
   "outputs": [],
   "source": [
    "df['Zscore'] = (df['Rating'] - df['Rating'].mean())/df['Rating'].std()"
   ]
  },
  {
   "cell_type": "code",
   "execution_count": 40,
   "metadata": {
    "collapsed": false
   },
   "outputs": [
    {
     "data": {
      "text/html": [
       "<div>\n",
       "<table border=\"1\" class=\"dataframe\">\n",
       "  <thead>\n",
       "    <tr style=\"text-align: right;\">\n",
       "      <th></th>\n",
       "      <th>Name</th>\n",
       "      <th>Rating</th>\n",
       "      <th>Party</th>\n",
       "      <th>Inaugural</th>\n",
       "      <th>popular</th>\n",
       "      <th>Popular</th>\n",
       "      <th>Zscore</th>\n",
       "    </tr>\n",
       "  </thead>\n",
       "  <tbody>\n",
       "    <tr>\n",
       "      <th>2</th>\n",
       "      <td>JFK</td>\n",
       "      <td>70.10</td>\n",
       "      <td>1</td>\n",
       "      <td>1961</td>\n",
       "      <td>True</td>\n",
       "      <td>True</td>\n",
       "      <td>1.827169</td>\n",
       "    </tr>\n",
       "    <tr>\n",
       "      <th>1</th>\n",
       "      <td>Ike</td>\n",
       "      <td>65.03</td>\n",
       "      <td>2</td>\n",
       "      <td>1953</td>\n",
       "      <td>True</td>\n",
       "      <td>True</td>\n",
       "      <td>1.229701</td>\n",
       "    </tr>\n",
       "    <tr>\n",
       "      <th>8</th>\n",
       "      <td>Bush</td>\n",
       "      <td>60.86</td>\n",
       "      <td>2</td>\n",
       "      <td>1989</td>\n",
       "      <td>True</td>\n",
       "      <td>True</td>\n",
       "      <td>0.738292</td>\n",
       "    </tr>\n",
       "    <tr>\n",
       "      <th>3</th>\n",
       "      <td>LBJ</td>\n",
       "      <td>55.10</td>\n",
       "      <td>1</td>\n",
       "      <td>1963</td>\n",
       "      <td>True</td>\n",
       "      <td>True</td>\n",
       "      <td>0.059511</td>\n",
       "    </tr>\n",
       "    <tr>\n",
       "      <th>9</th>\n",
       "      <td>Clinton</td>\n",
       "      <td>55.10</td>\n",
       "      <td>1</td>\n",
       "      <td>1993</td>\n",
       "      <td>True</td>\n",
       "      <td>True</td>\n",
       "      <td>0.059511</td>\n",
       "    </tr>\n",
       "    <tr>\n",
       "      <th>7</th>\n",
       "      <td>Reagan</td>\n",
       "      <td>52.79</td>\n",
       "      <td>2</td>\n",
       "      <td>1981</td>\n",
       "      <td>False</td>\n",
       "      <td>False</td>\n",
       "      <td>-0.212708</td>\n",
       "    </tr>\n",
       "    <tr>\n",
       "      <th>4</th>\n",
       "      <td>Nixon</td>\n",
       "      <td>49.02</td>\n",
       "      <td>2</td>\n",
       "      <td>1969</td>\n",
       "      <td>False</td>\n",
       "      <td>False</td>\n",
       "      <td>-0.656980</td>\n",
       "    </tr>\n",
       "    <tr>\n",
       "      <th>5</th>\n",
       "      <td>Ford</td>\n",
       "      <td>47.19</td>\n",
       "      <td>2</td>\n",
       "      <td>1973</td>\n",
       "      <td>False</td>\n",
       "      <td>False</td>\n",
       "      <td>-0.872634</td>\n",
       "    </tr>\n",
       "    <tr>\n",
       "      <th>6</th>\n",
       "      <td>Carter</td>\n",
       "      <td>45.48</td>\n",
       "      <td>1</td>\n",
       "      <td>1977</td>\n",
       "      <td>False</td>\n",
       "      <td>False</td>\n",
       "      <td>-1.074147</td>\n",
       "    </tr>\n",
       "    <tr>\n",
       "      <th>0</th>\n",
       "      <td>Truman</td>\n",
       "      <td>45.28</td>\n",
       "      <td>1</td>\n",
       "      <td>1944</td>\n",
       "      <td>False</td>\n",
       "      <td>False</td>\n",
       "      <td>-1.097716</td>\n",
       "    </tr>\n",
       "  </tbody>\n",
       "</table>\n",
       "</div>"
      ],
      "text/plain": [
       "      Name  Rating  Party  Inaugural popular Popular    Zscore\n",
       "2      JFK   70.10      1       1961    True    True  1.827169\n",
       "1      Ike   65.03      2       1953    True    True  1.229701\n",
       "8     Bush   60.86      2       1989    True    True  0.738292\n",
       "3      LBJ   55.10      1       1963    True    True  0.059511\n",
       "9  Clinton   55.10      1       1993    True    True  0.059511\n",
       "7   Reagan   52.79      2       1981   False   False -0.212708\n",
       "4    Nixon   49.02      2       1969   False   False -0.656980\n",
       "5     Ford   47.19      2       1973   False   False -0.872634\n",
       "6   Carter   45.48      1       1977   False   False -1.074147\n",
       "0   Truman   45.28      1       1944   False   False -1.097716"
      ]
     },
     "execution_count": 40,
     "metadata": {},
     "output_type": "execute_result"
    }
   ],
   "source": [
    "df.sort('Rating',ascending=False)"
   ]
  },
  {
   "cell_type": "code",
   "execution_count": 43,
   "metadata": {
    "collapsed": false
   },
   "outputs": [
    {
     "name": "stdout",
     "output_type": "stream",
     "text": [
      "Populating the interactive namespace from numpy and matplotlib\n"
     ]
    },
    {
     "name": "stderr",
     "output_type": "stream",
     "text": [
      "WARNING: pylab import has clobbered these variables: ['stem']\n",
      "`%matplotlib` prevents importing * from pylab and numpy\n"
     ]
    }
   ],
   "source": [
    "%pylab inline\n",
    "import seaborn as sms"
   ]
  },
  {
   "cell_type": "code",
   "execution_count": 63,
   "metadata": {
    "collapsed": true
   },
   "outputs": [],
   "source": [
    "ts = pd.Series(np.array(df['Rating']),index=df['Inaugural'])"
   ]
  },
  {
   "cell_type": "code",
   "execution_count": 65,
   "metadata": {
    "collapsed": false
   },
   "outputs": [
    {
     "data": {
      "image/png": "[encoded data removed]",
      "text/plain": [
       "<matplotlib.figure.Figure at 0x7f5c1b6af450>"
      ]
     },
     "metadata": {},
     "output_type": "display_data"
    }
   ],
   "source": [
    "ax = ts.plot()"
   ]
  },
  {
   "cell_type": "markdown",
   "metadata": {},
   "source": [
    "# Sampling from counties #\n",
    "\n",
    "Meyer presents this in Chapter 6 (page 107) in terms of a multi-step sampling procedure, where you first decide how many samples to draw from each county, and then draw them uniformly at random within each county. \n",
    "\n",
    "A similar technique is necessary if we are sampling instances from very large files, where random access is too expensive -- we need a **streaming** algorithm.\n",
    "\n",
    "Suppose we have a file with 100 billion lines in it, and we want to sample 100 lines, uniformly at random. How can we do it, while iterating through the file only once, and consuming only 100 elements of memory?\n",
    "\n",
    "More generally, say we have a file with $N$ lines, and we want to get a fair sample of $k$, with a time cost of $\\mathcal{O}(N)$ and a space cost of $\\mathcal{O}(k)$."
   ]
  },
  {
   "cell_type": "markdown",
   "metadata": {},
   "source": [
    "## Algorithm 1 ##\n",
    "\n",
    "- Create a buffer $b$ of size $k$.\n",
    "- For each line $t$, sample a number from a uniform distribution $x \\sim U([0,1])$.\n",
    "- If $x < \\frac{k}{N}$, then:\n",
    "    - Sample an integer from a uniform distribution $i \\sim U({1, 2, \\ldots, k})$\n",
    "    - Set $b[i] = r_t$, where $r_t$ is the record number $t$\n",
    "\n",
    "Will this work?"
   ]
  },
  {
   "cell_type": "code",
   "execution_count": 145,
   "metadata": {
    "collapsed": false
   },
   "outputs": [
    {
     "name": "stdout",
     "output_type": "stream",
     "text": [
      "[   0    1    2 ..., 9997 9998 9999]\n"
     ]
    }
   ],
   "source": [
    "r = np.arange(10000)\n",
    "print(r)"
   ]
  },
  {
   "cell_type": "code",
   "execution_count": 157,
   "metadata": {
    "collapsed": true
   },
   "outputs": [],
   "source": [
    "def getSample1(r,k):\n",
    "    N = float(len(r))\n",
    "    buffer = [0] * k\n",
    "    for r_t in r:\n",
    "        if np.random.rand() < k/N:\n",
    "            buffer[np.random.randint(k)] = r_t\n",
    "    return buffer"
   ]
  },
  {
   "cell_type": "code",
   "execution_count": 158,
   "metadata": {
    "collapsed": false
   },
   "outputs": [
    {
     "name": "stdout",
     "output_type": "stream",
     "text": [
      "[8086, 9822, 0, 5315, 954]\n",
      "[3579, 0, 0, 5585, 0]\n",
      "[0, 5711, 0, 9222, 0]\n",
      "[959, 0, 3683, 0, 1895]\n",
      "[4273, 0, 0, 9378, 7297]\n"
     ]
    }
   ],
   "source": [
    "for _ in xrange(5):\n",
    "    print(getSample1(r,5))"
   ]
  },
  {
   "cell_type": "markdown",
   "metadata": {},
   "source": [
    "Too many zeros! These are elements of the buffer that are not getting filled.\n",
    "Since the order of elements in the buffer doesn't matter, let's make sure that we always fill an empty slot."
   ]
  },
  {
   "cell_type": "code",
   "execution_count": 160,
   "metadata": {
    "collapsed": true
   },
   "outputs": [],
   "source": [
    "def getSample2(r,k):\n",
    "    N = float(len(r))\n",
    "    buffer = [0] * k\n",
    "    b_ctr = 0\n",
    "    for r_t in r:\n",
    "        if np.random.rand() < k/N:\n",
    "            buffer[b_ctr] = r_t\n",
    "            b_ctr = (b_ctr + 1) % k\n",
    "    return buffer"
   ]
  },
  {
   "cell_type": "code",
   "execution_count": 161,
   "metadata": {
    "collapsed": false
   },
   "outputs": [
    {
     "name": "stdout",
     "output_type": "stream",
     "text": [
      "[7124, 9141, 9378, 6086, 6741]\n",
      "[9316, 7140, 8101, 9148, 9176]\n",
      "[2214, 4630, 6551, 0, 0]\n",
      "[9317, 2610, 5422, 7477, 8076]\n",
      "[4848, 7008, 8754, 9658, 4814]\n"
     ]
    }
   ],
   "source": [
    "for _ in xrange(5):\n",
    "    print(getSample2(r,5))"
   ]
  },
  {
   "cell_type": "markdown",
   "metadata": {},
   "source": [
    "better! still some zeros, but not as many.\n",
    "\n",
    "But there's a more subtle problem here: we're more likely to draw later records rather than earlier ones.\n",
    "\n",
    "Why? Because the earlier records will get overwritten, and the later ones won't. \n",
    "\n",
    "To see this let's look at a histogram of the records that we draw after iterating the algorithm 1000 times."
   ]
  },
  {
   "cell_type": "code",
   "execution_count": 172,
   "metadata": {
    "collapsed": false
   },
   "outputs": [
    {
     "data": {
      "image/png": "[encoded data removed]",
      "text/plain": [
       "<matplotlib.figure.Figure at 0x7f5c18d73450>"
      ]
     },
     "metadata": {},
     "output_type": "display_data"
    }
   ],
   "source": [
    "all_samples = []\n",
    "for _ in xrange(1000):\n",
    "    all_samples.extend([x for x in getSample2(np.arange(10000),10) if x > 0])\n",
    "plt.hist(all_samples);"
   ]
  },
  {
   "cell_type": "markdown",
   "metadata": {},
   "source": [
    "We're twice as likely to draw a record from the last 1000, than from the first 1000. This is not a fair sample."
   ]
  },
  {
   "cell_type": "markdown",
   "metadata": {},
   "source": [
    "## Vitter's Reservoir Sampler ##"
   ]
  },
  {
   "cell_type": "code",
   "execution_count": null,
   "metadata": {
    "collapsed": true
   },
   "outputs": [],
   "source": [
    "# todo"
   ]
  }
 ],
 "metadata": {
  "kernelspec": {
   "display_name": "Python 2",
   "language": "python",
   "name": "python2"
  },
  "language_info": {
   "codemirror_mode": {
    "name": "ipython",
    "version": 2
   },
   "file_extension": ".py",
   "mimetype": "text/x-python",
   "name": "python",
   "nbconvert_exporter": "python",
   "pygments_lexer": "ipython2",
   "version": "2.7.10"
  }
 },
 "nbformat": 4,
 "nbformat_minor": 0
}
