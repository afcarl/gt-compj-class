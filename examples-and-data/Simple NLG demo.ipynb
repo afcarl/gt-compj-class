{
 "cells": [
  {
   "cell_type": "code",
   "execution_count": 1,
   "metadata": {
    "collapsed": true
   },
   "outputs": [],
   "source": [
    "import nlgserv\n",
    "import json\n",
    "import urllib2\n",
    "import subprocess\n",
    "import os\n",
    "from time import sleep"
   ]
  },
  {
   "cell_type": "code",
   "execution_count": 2,
   "metadata": {
    "collapsed": true
   },
   "outputs": [],
   "source": [
    "port = 8080"
   ]
  },
  {
   "cell_type": "code",
   "execution_count": 3,
   "metadata": {
    "collapsed": true
   },
   "outputs": [],
   "source": [
    "jython_jar = os.path.join('nlgserv','jython.jar')\n",
    "server_py = os.path.join('nlgserv','_server.py')\n",
    "outdir = '.'"
   ]
  },
  {
   "cell_type": "code",
   "execution_count": 4,
   "metadata": {
    "collapsed": false
   },
   "outputs": [],
   "source": [
    "def setUpModule(port):\n",
    "    global nlgserv\n",
    "    print \"Starting up nlgserv...\"\n",
    "    nlgserv = subprocess.Popen([jython_jar,\n",
    "                                server_py,\n",
    "                                \"localhost\", str(port)],\n",
    "                               stdin=subprocess.PIPE,\n",
    "                               stdout=open(\"nlgserv.stdout.log\", \"w+\"),\n",
    "                               stderr=open(\"nlgserv.stderr.log\", \"w+\"),\n",
    "                               preexec_fn=os.setsid)\n",
    "    sleep(60) # It needs longer now it's loading from the standalone package...\n",
    "    print \"Commencing testing...\"\n",
    "    \n",
    "def tearDownModule():\n",
    "    global nlgserv\n",
    "    print \"Shutting down nlgserv...\"\n",
    "    os.killpg(nlgserv.pid, subprocess.signal.SIGTERM)\n",
    "    nlgserv.wait()"
   ]
  },
  {
   "cell_type": "code",
   "execution_count": 5,
   "metadata": {
    "collapsed": true
   },
   "outputs": [],
   "source": [
    "def send_data(json_data, port):\n",
    "    the_url = \"http://localhost:%d/generateSentence\"%(port)\n",
    "    print the_url\n",
    "    req = urllib2.Request(the_url,\n",
    "                          data=json_data,\n",
    "                          headers={\"Content-Type\":\"application/json\"})\n",
    "    return urllib2.urlopen(req).read()\n"
   ]
  },
  {
   "cell_type": "code",
   "execution_count": 6,
   "metadata": {
    "collapsed": false
   },
   "outputs": [
    {
     "name": "stdout",
     "output_type": "stream",
     "text": [
      "Starting up nlgserv...\n",
      "Commencing testing...\n"
     ]
    }
   ],
   "source": [
    "setUpModule(port)"
   ]
  },
  {
   "cell_type": "code",
   "execution_count": 43,
   "metadata": {
    "collapsed": true
   },
   "outputs": [],
   "source": [
    "sentence = {}\n",
    "sentence['subject'] = 'Yi'\n",
    "sentence['verb'] = 'leave'"
   ]
  },
  {
   "cell_type": "code",
   "execution_count": 44,
   "metadata": {
    "collapsed": false
   },
   "outputs": [
    {
     "name": "stdout",
     "output_type": "stream",
     "text": [
      "http://localhost:8080/generateSentence\n"
     ]
    },
    {
     "data": {
      "text/plain": [
       "'Yi leaves.'"
      ]
     },
     "execution_count": 44,
     "metadata": {},
     "output_type": "execute_result"
    }
   ],
   "source": [
    "send_data(json.dumps({'sentence':sentence}),port)"
   ]
  },
  {
   "cell_type": "code",
   "execution_count": 46,
   "metadata": {
    "collapsed": false
   },
   "outputs": [
    {
     "name": "stdout",
     "output_type": "stream",
     "text": [
      "http://localhost:8080/generateSentence\n"
     ]
    },
    {
     "data": {
      "text/plain": [
       "'Yi left.'"
      ]
     },
     "execution_count": 46,
     "metadata": {},
     "output_type": "execute_result"
    }
   ],
   "source": [
    "sentence['features'] = {'tense':'past'}\n",
    "send_data(json.dumps({'sentence':sentence}),port)"
   ]
  },
  {
   "cell_type": "code",
   "execution_count": 47,
   "metadata": {
    "collapsed": false
   },
   "outputs": [
    {
     "name": "stdout",
     "output_type": "stream",
     "text": [
      "http://localhost:8080/generateSentence\n"
     ]
    },
    {
     "data": {
      "text/plain": [
       "'Yi will leave.'"
      ]
     },
     "execution_count": 47,
     "metadata": {},
     "output_type": "execute_result"
    }
   ],
   "source": [
    "sentence['features'] = {'tense':'future'}\n",
    "send_data(json.dumps({'sentence':sentence}),port)"
   ]
  },
  {
   "cell_type": "code",
   "execution_count": 48,
   "metadata": {
    "collapsed": false
   },
   "outputs": [
    {
     "name": "stdout",
     "output_type": "stream",
     "text": [
      "http://localhost:8080/generateSentence\n"
     ]
    },
    {
     "data": {
      "text/plain": [
       "'Will be left by Yi.'"
      ]
     },
     "execution_count": 48,
     "metadata": {},
     "output_type": "execute_result"
    }
   ],
   "source": [
    "sentence['features'] = {'tense':'future','passive':'true'}\n",
    "send_data(json.dumps({'sentence':sentence}),port)"
   ]
  },
  {
   "cell_type": "code",
   "execution_count": 50,
   "metadata": {
    "collapsed": false
   },
   "outputs": [
    {
     "name": "stdout",
     "output_type": "stream",
     "text": [
      "http://localhost:8080/generateSentence\n"
     ]
    },
    {
     "data": {
      "text/plain": [
       "'Yi leaves a note.'"
      ]
     },
     "execution_count": 50,
     "metadata": {},
     "output_type": "execute_result"
    }
   ],
   "source": [
    "sentence= {}\n",
    "sentence['subject'] = 'Yi'\n",
    "sentence['verb'] = 'leave'\n",
    "sentence['object'] = 'a note'\n",
    "send_data(json.dumps({'sentence':sentence}),port)"
   ]
  },
  {
   "cell_type": "code",
   "execution_count": 51,
   "metadata": {
    "collapsed": false
   },
   "outputs": [
    {
     "name": "stdout",
     "output_type": "stream",
     "text": [
      "http://localhost:8080/generateSentence\n"
     ]
    },
    {
     "data": {
      "text/plain": [
       "'A note was left by Yi.'"
      ]
     },
     "execution_count": 51,
     "metadata": {},
     "output_type": "execute_result"
    }
   ],
   "source": [
    "sentence= {}\n",
    "sentence['subject'] = 'Yi'\n",
    "sentence['verb'] = 'leave'\n",
    "sentence['object'] = 'a note'\n",
    "sentence['features']={'passive':'true','tense':'past'}\n",
    "send_data(json.dumps({'sentence':sentence}),port)"
   ]
  },
  {
   "cell_type": "code",
   "execution_count": 41,
   "metadata": {
    "collapsed": false
   },
   "outputs": [
    {
     "name": "stdout",
     "output_type": "stream",
     "text": [
      "http://localhost:8080/generateSentence\n"
     ]
    },
    {
     "data": {
      "text/plain": [
       "'The note is left by Yi.'"
      ]
     },
     "execution_count": 41,
     "metadata": {},
     "output_type": "execute_result"
    }
   ],
   "source": [
    "sentence= {}\n",
    "sentence['subject'] = 'Yi'\n",
    "sentence['verb'] = 'leave'\n",
    "sentence['object'] = {'type':'noun_phrase','head':'note','determiner':'the'}\n",
    "sentence['features']={'passive':'true','tense':'present'}\n",
    "send_data(json.dumps({'sentence':sentence}),port)"
   ]
  },
  {
   "cell_type": "code",
   "execution_count": 78,
   "metadata": {
    "collapsed": true
   },
   "outputs": [],
   "source": [
    "sentence = {}\n",
    "sentence[\"subject\"] = \"John\"\n",
    "sentence[\"verb\"] = \"kick\"\n",
    "sentence[\"object\"] = \"Dave\"\n",
    "#sentence['adverb'] = 'happily'\n",
    "\n",
    "#sentence[\"features\"] = {\"tense\":\"past\",'passive':'true','negated':'true'}\n",
    "#sentence[\"features\"] = {\"tense\":\"past\",'passive':'true'}\n",
    "sentence[\"features\"] = {}"
   ]
  },
  {
   "cell_type": "code",
   "execution_count": 81,
   "metadata": {
    "collapsed": false
   },
   "outputs": [
    {
     "name": "stdout",
     "output_type": "stream",
     "text": [
      "http://localhost:8080/generateSentence\n"
     ]
    },
    {
     "data": {
      "text/plain": [
       "'John kicks Dave.'"
      ]
     },
     "execution_count": 81,
     "metadata": {},
     "output_type": "execute_result"
    }
   ],
   "source": [
    "send_data(json.dumps({'sentence':sentence}),port)"
   ]
  },
  {
   "cell_type": "code",
   "execution_count": 82,
   "metadata": {
    "collapsed": true
   },
   "outputs": [],
   "source": [
    "sentence['subject'] = 'John and Mary'"
   ]
  },
  {
   "cell_type": "code",
   "execution_count": 83,
   "metadata": {
    "collapsed": false
   },
   "outputs": [
    {
     "name": "stdout",
     "output_type": "stream",
     "text": [
      "http://localhost:8080/generateSentence\n"
     ]
    },
    {
     "data": {
      "text/plain": [
       "'John and Mary kicks Dave.'"
      ]
     },
     "execution_count": 83,
     "metadata": {},
     "output_type": "execute_result"
    }
   ],
   "source": [
    "send_data(json.dumps({'sentence':sentence}),port)"
   ]
  },
  {
   "cell_type": "code",
   "execution_count": 86,
   "metadata": {
    "collapsed": true
   },
   "outputs": [],
   "source": [
    "sentence['subject'] = {'head':'John and Mary','features':{'number':'plural'},'type':'noun_phrase'}"
   ]
  },
  {
   "cell_type": "code",
   "execution_count": 13,
   "metadata": {
    "collapsed": false
   },
   "outputs": [
    {
     "name": "stdout",
     "output_type": "stream",
     "text": [
      "Shutting down nlgserv...\n"
     ]
    }
   ],
   "source": [
    "tearDownModule()"
   ]
  }
 ],
 "metadata": {
  "kernelspec": {
   "display_name": "Python 2",
   "language": "python",
   "name": "python2"
  },
  "language_info": {
   "codemirror_mode": {
    "name": "ipython",
    "version": 2
   },
   "file_extension": ".py",
   "mimetype": "text/x-python",
   "name": "python",
   "nbconvert_exporter": "python",
   "pygments_lexer": "ipython2",
   "version": "2.7.10"
  }
 },
 "nbformat": 4,
 "nbformat_minor": 0
}
