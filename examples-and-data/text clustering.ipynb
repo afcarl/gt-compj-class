{
 "cells": [
  {
   "cell_type": "code",
   "execution_count": 3,
   "metadata": {
    "collapsed": true
   },
   "outputs": [],
   "source": [
    "from glob import glob\n",
    "import os"
   ]
  },
  {
   "cell_type": "markdown",
   "metadata": {},
   "source": [
    "# Text clustering and classification #\n",
    "\n",
    "- Tokenization\n",
    "- Bag-of-words vectors\n",
    "- Cosine similarity\n",
    "- Stopwords and TF-IDF\n",
    "- K-nearest neighbors"
   ]
  },
  {
   "cell_type": "markdown",
   "metadata": {},
   "source": [
    "Let's just pick a single story to start"
   ]
  },
  {
   "cell_type": "code",
   "execution_count": 4,
   "metadata": {
    "collapsed": true
   },
   "outputs": [],
   "source": [
    "basedir = 'aa'\n",
    "storyname = os.path.join(basedir,'TheLiberator/Issue of October 21, 1859/story028.txt')"
   ]
  },
  {
   "cell_type": "code",
   "execution_count": 5,
   "metadata": {
    "collapsed": false
   },
   "outputs": [
    {
     "name": "stdout",
     "output_type": "stream",
     "text": [
      "[' MARIUS R. ROBINSON, of Ohio, is an Agent of theAmerican Anti-Slavery Society, and as such is commendedto all friends of the Society, and of uncompromisinganti-slavery. As editor of the (Ohio) Anti-SlaveryBugle, and as a clear, earnest, and impressivespeaker, his services have been of the greatest valueto the cause, and have entitled him to the fullest confidenceand respect of its friends. In full apprehensionof the principles of Anti-Slavery, in faithful applicationof them, and in a fair and courteous spirit toopponents, he is surpassed by no one. ARIUS OBINSON American Anti-Slavery Society Anti-SlaveryBugle Mr. Robinson is at present laboring in WesternNew York. He will receive subscriptions to the NationalAnti-Slavery Standard, and other Anti-Slaverypapers, and donations to the American Anti-slaverySociety. NationalAnti-Slavery Standard For the Executive Committee. \\n']\n"
     ]
    }
   ],
   "source": [
    "with open(storyname,'r') as fin:\n",
    "    print fin.readlines()"
   ]
  },
  {
   "cell_type": "markdown",
   "metadata": {},
   "source": [
    "## Tokenization ##\n",
    "\n",
    "First, we need to divide the text into **tokens**. We can do that by splitting on whitespace."
   ]
  },
  {
   "cell_type": "code",
   "execution_count": 6,
   "metadata": {
    "collapsed": false
   },
   "outputs": [],
   "source": [
    "def getTokens(storyname):\n",
    "    output = []\n",
    "    with open(storyname,'r') as fin:\n",
    "        for line in fin:\n",
    "            output.extend(line.split())\n",
    "    return output"
   ]
  },
  {
   "cell_type": "code",
   "execution_count": 7,
   "metadata": {
    "collapsed": false
   },
   "outputs": [
    {
     "name": "stdout",
     "output_type": "stream",
     "text": [
      "['MARIUS', 'R.', 'ROBINSON,', 'of', 'Ohio,', 'is', 'an', 'Agent', 'of', 'theAmerican', 'Anti-Slavery', 'Society,', 'and', 'as', 'such', 'is', 'commendedto', 'all', 'friends', 'of']\n"
     ]
    }
   ],
   "source": [
    "print getTokens(storyname)[:20]"
   ]
  },
  {
   "cell_type": "markdown",
   "metadata": {},
   "source": [
    "Notice how the token ```Society,``` has a comma in it. We'd like to do better than split on whitespace, so we can remove these pieces. NLTK, *the natural language toolkit*, has better tokenizers. They're not complicated (for English!), they're just finely-tuned regular expressions."
   ]
  },
  {
   "cell_type": "code",
   "execution_count": 8,
   "metadata": {
    "collapsed": true
   },
   "outputs": [],
   "source": [
    "from nltk.tokenize import WordPunctTokenizer"
   ]
  },
  {
   "cell_type": "code",
   "execution_count": 9,
   "metadata": {
    "collapsed": true
   },
   "outputs": [],
   "source": [
    "tokenizer = WordPunctTokenizer()"
   ]
  },
  {
   "cell_type": "code",
   "execution_count": 10,
   "metadata": {
    "collapsed": true
   },
   "outputs": [],
   "source": [
    "def getTokensBetter(storyname):\n",
    "    output = []\n",
    "    with open(storyname,'r') as fin:\n",
    "        for line in fin:\n",
    "            output.extend(tokenizer.tokenize(line.rstrip()))\n",
    "    return output"
   ]
  },
  {
   "cell_type": "code",
   "execution_count": 11,
   "metadata": {
    "collapsed": false
   },
   "outputs": [
    {
     "name": "stdout",
     "output_type": "stream",
     "text": [
      "['MARIUS', 'R', '.', 'ROBINSON', ',', 'of', 'Ohio', ',', 'is', 'an', 'Agent', 'of', 'theAmerican', 'Anti', '-', 'Slavery', 'Society', ',', 'and', 'as']\n"
     ]
    }
   ],
   "source": [
    "print getTokensBetter(storyname)[:20]"
   ]
  },
  {
   "cell_type": "markdown",
   "metadata": {},
   "source": [
    "## Bag-of-words vectors ##\n",
    "\n",
    "Next, we're going to build *bag of words* vectors. Each vector stores the counts of all words in a given document.\n",
    "\n",
    "- To build such a vector, we need to know what the words are.  \n",
    "- So we will make two passes, first to build the vocabulary and then to build the vectors.\n",
    "- Python's Counter class makes this easier."
   ]
  },
  {
   "cell_type": "code",
   "execution_count": 12,
   "metadata": {
    "collapsed": true
   },
   "outputs": [],
   "source": [
    "from collections import Counter # for the dictionary\n",
    "import numpy as np # for vectors"
   ]
  },
  {
   "cell_type": "code",
   "execution_count": 13,
   "metadata": {
    "collapsed": true
   },
   "outputs": [],
   "source": [
    "file_glob = glob(os.path.join(basedir,'*','*','story*'))"
   ]
  },
  {
   "cell_type": "code",
   "execution_count": 14,
   "metadata": {
    "collapsed": false
   },
   "outputs": [],
   "source": [
    "all_counts = Counter()\n",
    "for filename in file_glob: #iterate through all the files\n",
    "    for tok in getTokensBetter(filename): #for each token\n",
    "        all_counts[tok] += 1"
   ]
  },
  {
   "cell_type": "code",
   "execution_count": 15,
   "metadata": {
    "collapsed": false
   },
   "outputs": [
    {
     "name": "stdout",
     "output_type": "stream",
     "text": [
      "Length: 46111\n",
      "[(',', 48149), ('the', 34964), ('.', 30711), ('of', 22025), ('and', 17525), ('to', 14544), ('a', 10302), ('in', 9764), ('that', 5661), ('is', 5291)]\n"
     ]
    }
   ],
   "source": [
    "print 'Length:',len(all_counts)\n",
    "print all_counts.most_common(10)"
   ]
  },
  {
   "cell_type": "markdown",
   "metadata": {},
   "source": [
    "To map from words to their positions in the vector, we will use an *inverted index*.\n",
    "\n",
    "This is just a dictionary from words to unique numbers. We'll focus on the 1000 most common words."
   ]
  },
  {
   "cell_type": "code",
   "execution_count": 16,
   "metadata": {
    "collapsed": false
   },
   "outputs": [],
   "source": [
    "inv_index = {word[0]:loc for loc,word in enumerate(all_counts.most_common(1000))}"
   ]
  },
  {
   "cell_type": "code",
   "execution_count": 17,
   "metadata": {
    "collapsed": false
   },
   "outputs": [
    {
     "name": "stdout",
     "output_type": "stream",
     "text": [
      "it 14\n",
      "was 13\n",
      "the 1\n",
      "best 202\n",
      "of 3\n",
      "times 501\n"
     ]
    }
   ],
   "source": [
    "for word in ['it','was','the','best','of','times']:\n",
    "    print word,inv_index[word]"
   ]
  },
  {
   "cell_type": "code",
   "execution_count": 18,
   "metadata": {
    "collapsed": false
   },
   "outputs": [
    {
     "ename": "KeyError",
     "evalue": "'laptop'",
     "output_type": "error",
     "traceback": [
      "\u001b[1;31m---------------------------------------------------------------------------\u001b[0m",
      "\u001b[1;31mKeyError\u001b[0m                                  Traceback (most recent call last)",
      "\u001b[1;32m<ipython-input-18-7118da0e1a11>\u001b[0m in \u001b[0;36m<module>\u001b[1;34m()\u001b[0m\n\u001b[1;32m----> 1\u001b[1;33m \u001b[1;32mprint\u001b[0m \u001b[0minv_index\u001b[0m\u001b[1;33m[\u001b[0m\u001b[1;34m'laptop'\u001b[0m\u001b[1;33m]\u001b[0m\u001b[1;33m\u001b[0m\u001b[0m\n\u001b[0m",
      "\u001b[1;31mKeyError\u001b[0m: 'laptop'"
     ]
    }
   ],
   "source": [
    "print inv_index['laptop']"
   ]
  },
  {
   "cell_type": "markdown",
   "metadata": {},
   "source": [
    "Now let's build the bags of words.\n",
    "\n",
    "We'll store it as a numpy array. Note that we are storing 700K integers. If the data were a few orders of magnitude bigger, it would be hard to store it this way. Instead, we would need to account for the **sparsity structure** of linguistic data, which is that "
   ]
  },
  {
   "cell_type": "code",
   "execution_count": 19,
   "metadata": {
    "collapsed": false
   },
   "outputs": [
    {
     "name": "stdout",
     "output_type": "stream",
     "text": [
      "705 1000\n"
     ]
    }
   ],
   "source": [
    "N = len(file_glob)\n",
    "V = len(inv_index)\n",
    "print N,V\n",
    "X = np.zeros((N,V)) # NOTE! we couldn't do it this way if N or V were much bigger. We'd need a sparse matrix."
   ]
  },
  {
   "cell_type": "code",
   "execution_count": 20,
   "metadata": {
    "collapsed": true
   },
   "outputs": [],
   "source": [
    "for i,filename in enumerate(file_glob):\n",
    "    for tok in getTokensBetter(filename):\n",
    "        if tok in inv_index:\n",
    "            X[i,inv_index[tok]] += 1"
   ]
  },
  {
   "cell_type": "code",
   "execution_count": 21,
   "metadata": {
    "collapsed": false
   },
   "outputs": [
    {
     "name": "stdout",
     "output_type": "stream",
     "text": [
      "num nonzero: 109392\n",
      "size of X: 705000\n",
      "density: 0.155165957447\n"
     ]
    }
   ],
   "source": [
    "print 'num nonzero:', len(X.nonzero()[0])\n",
    "print 'size of X:',N*V\n",
    "print 'density:', len(X.nonzero()[0])/float(N*V)"
   ]
  },
  {
   "cell_type": "markdown",
   "metadata": {},
   "source": [
    "Here is a bag of words for one document:"
   ]
  },
  {
   "cell_type": "code",
   "execution_count": 22,
   "metadata": {
    "collapsed": false
   },
   "outputs": [
    {
     "data": {
      "text/plain": [
       "array([ 93.,  40.,  59.,  25.,  27.,  31.,  35.,  16.,  11.,  15.,  29.,\n",
       "        13.,  94.,  10.,  18.,   4.,   7.,   5.,  12.,   4.,  12.,   7.,\n",
       "         2.,   0.,  17.,   6.,   5.,  10.,   4.,   5.,   2.,   8.,   4.,\n",
       "         4.,  13.,  30.,   7.,   1.,   2.,   2.,   5.,   6.,   0.,   2.,\n",
       "         4.,  40.,   4.,  41.,   4.,   2.,  10.,   2.,   4.,  38.,   0.,\n",
       "         0.,   0.,   7.,   7.,   1.,  14.,   4.,  18.,   2.,   2.,   4.,\n",
       "         9.,   0.,   1.,   2.,   0.,   0.,   2.,   2.,   3.,   4.,   0.,\n",
       "         2.,   3.,   3.,   1.,   2.,   0.,   2.,   2.,   6.,   5.,   0.,\n",
       "         4.,   2.,   2.,   3.,   0.,   1.,   2.,   8.,   2.,   0.,   3.,\n",
       "         1.,   2.,   0.,   1.,   1.,   4.,   2.,   6.,   3.,   1.,   1.,\n",
       "         2.,   0.,   3.,   0.,   2.,   5.,   1.,   4.,   1.,   0.,   4.,\n",
       "         5.,   0.,   0.,   3.,   2.,   0.,   4.,   0.,   2.,   2.,   1.,\n",
       "        13.,   0.,   0.,   2.,   0.,   0.,   1.,   0.,   3.,   0.,   0.,\n",
       "         0.,   4.,   4.,   0.,   0.,   5.,   0.,   2.,   0.,   1.,   0.,\n",
       "         0.,   0.,   0.,   1.,   1.,   3.,   0.,   3.,   0.,   0.,   1.,\n",
       "         2.,   0.,   2.,   0.,   0.,   0.,   2.,   0.,   0.,   0.,   0.,\n",
       "         8.,   2.,   1.,   1.,   0.,   0.,   1.,   1.,   6.,   0.,   0.,\n",
       "         1.,   3.,   1.,   0.,   0.,   0.,   1.,   0.,   0.,   1.,   0.,\n",
       "         0.,   0.,   0.,   0.,   1.,   0.,   2.,   3.,   0.,   0.,   3.,\n",
       "         0.,   5.,   0.,   0.,   0.,   0.,   1.,   1.,   0.,   1.,   1.,\n",
       "         0.,   0.,   0.,   0.,   0.,   0.,   1.,   0.,   0.,   1.,   0.,\n",
       "         1.,   0.,   0.,   0.,   3.,   0.,   0.,   0.,   0.,   1.,   1.,\n",
       "         1.,   1.,   0.,   1.,   0.,   2.,   0.,   0.,   1.,   0.,   0.,\n",
       "         0.,   0.,   0.,   0.,   2.,   0.,   0.,   2.,   1.,   0.,   0.,\n",
       "         0.,   1.,   2.,   1.,   1.,   0.,   1.,   0.,   0.,   0.,   0.,\n",
       "         2.,   1.,   0.,   2.,   1.,   0.,   0.,   1.,   4.,   1.,  15.,\n",
       "         1.,   0.,   0.,   3.,   0.,   0.,   0.,   0.,   1.,   1.,   0.,\n",
       "         0.,   0.,   0.,   0.,   2.,   0.,   0.,   4.,   0.,   2.,   0.,\n",
       "         0.,   2.,   0.,   0.,   0.,   0.,   0.,   0.,   1.,   0.,   0.,\n",
       "         2.,   0.,   1.,   0.,   0.,   0.,   0.,   0.,   0.,   0.,   2.,\n",
       "         0.,   0.,   0.,   0.,   0.,   0.,   0.,   2.,   1.,   0.,   3.,\n",
       "         0.,   0.,   0.,   1.,   1.,   1.,   0.,   0.,   1.,   0.,   0.,\n",
       "         0.,   1.,   0.,   0.,   0.,   1.,   0.,   1.,   1.,   0.,   0.,\n",
       "         0.,   0.,   0.,   0.,   0.,   2.,   0.,   0.,   0.,   0.,   0.,\n",
       "         0.,   0.,   2.,   0.,   0.,   0.,   0.,   0.,   1.,   0.,   0.,\n",
       "         0.,   0.,   0.,   0.,   1.,   2.,   0.,   0.,   0.,   0.,   0.,\n",
       "         0.,   1.,   1.,   0.,   1.,   0.,   0.,   0.,   0.,   0.,   1.,\n",
       "         0.,   4.,   1.,   0.,   1.,   0.,   0.,   0.,   0.,   0.,   0.,\n",
       "         0.,   0.,   0.,   0.,   0.,   0.,   0.,   0.,   0.,   0.,   1.,\n",
       "         0.,   1.,   1.,   0.,   0.,   2.,   0.,   0.,   0.,   1.,   0.,\n",
       "         0.,   0.,   0.,   0.,   0.,   0.,   0.,   0.,   1.,   0.,   0.,\n",
       "         1.,   0.,   0.,   3.,   0.,   0.,   0.,   0.,   0.,   0.,   2.,\n",
       "         0.,   0.,   0.,   0.,   0.,   0.,   0.,   0.,   0.,   0.,   0.,\n",
       "         0.,   0.,   0.,   1.,   0.,   0.,   0.,   0.,   0.,   0.,   0.,\n",
       "         0.,   0.,   0.,   0.,   0.,   2.,   0.,   0.,   1.,   0.,   0.,\n",
       "         0.,   0.,   0.,   0.,   0.,   0.,   0.,   0.,   0.,   0.,   0.,\n",
       "         2.,   1.,   0.,   0.,   0.,   1.,   0.,   3.,   0.,   0.,   0.,\n",
       "         0.,   0.,   0.,   0.,   0.,   0.,   0.,   0.,   0.,   0.,   0.,\n",
       "         0.,   0.,   0.,   0.,   0.,   0.,   0.,   0.,   0.,   0.,   0.,\n",
       "         0.,   0.,   2.,   2.,   0.,   0.,   0.,   0.,   0.,   1.,   0.,\n",
       "         0.,   0.,   0.,   0.,   0.,   1.,   0.,   0.,   0.,   0.,   0.,\n",
       "         1.,   0.,   0.,   0.,   1.,   0.,   0.,   0.,   0.,   0.,   0.,\n",
       "         0.,   0.,   0.,   0.,   0.,   0.,   0.,   0.,   0.,   1.,   0.,\n",
       "         0.,   0.,   0.,   0.,   0.,   2.,   1.,   0.,   1.,   2.,   0.,\n",
       "         0.,   0.,   1.,   0.,   0.,   0.,   0.,   0.,   0.,   0.,   0.,\n",
       "         0.,   0.,   1.,   0.,   1.,   0.,   0.,   0.,   0.,   0.,   0.,\n",
       "         1.,   0.,   0.,   0.,   0.,   0.,   0.,   0.,   0.,   0.,   0.,\n",
       "         0.,   0.,   0.,   1.,   0.,   1.,   0.,   0.,   1.,   0.,   1.,\n",
       "         0.,   1.,   0.,   0.,   0.,   0.,   0.,   0.,   0.,   1.,   0.,\n",
       "         0.,   0.,   0.,   0.,   0.,   0.,   0.,   0.,   0.,   0.,   1.,\n",
       "         0.,   1.,   0.,   0.,   1.,   0.,   0.,   0.,   0.,   0.,   1.,\n",
       "         0.,   1.,   0.,   0.,   0.,   0.,   0.,   0.,   2.,   0.,   0.,\n",
       "         0.,   0.,   1.,   0.,   0.,   0.,   1.,   0.,   1.,   3.,   0.,\n",
       "         0.,   0.,   0.,   0.,   0.,   0.,   0.,   0.,   1.,   0.,   0.,\n",
       "         1.,   0.,   0.,   0.,   0.,   0.,   0.,   0.,   0.,   0.,   0.,\n",
       "         0.,   0.,   0.,   1.,   0.,   0.,   0.,   0.,   0.,   0.,   0.,\n",
       "         0.,   0.,   0.,   0.,   0.,   0.,   1.,   0.,   2.,   0.,   0.,\n",
       "         0.,   0.,   0.,   0.,   0.,   0.,   3.,   0.,   0.,   0.,   1.,\n",
       "         0.,   1.,   0.,   0.,   0.,   0.,   0.,   0.,   0.,   1.,   0.,\n",
       "         0.,   0.,   0.,   0.,   0.,   0.,   0.,   0.,   2.,   0.,   0.,\n",
       "         0.,   0.,   0.,   0.,   0.,   0.,   0.,   2.,   0.,   0.,   0.,\n",
       "         0.,   0.,   0.,   0.,   0.,   0.,   0.,   0.,   0.,   0.,   0.,\n",
       "         0.,   0.,   0.,   0.,   0.,   0.,   0.,   0.,   0.,   0.,   0.,\n",
       "         0.,   0.,   2.,   0.,   0.,   0.,   2.,   0.,   0.,   0.,   1.,\n",
       "         0.,   2.,   0.,   0.,   0.,   0.,   0.,   0.,   0.,   0.,   0.,\n",
       "         0.,   0.,   0.,   0.,   0.,   0.,   0.,   1.,   0.,   0.,   1.,\n",
       "         0.,   2.,   0.,   0.,   0.,   0.,   0.,   0.,   0.,   0.,   0.,\n",
       "         1.,   0.,   0.,   0.,   0.,   0.,   0.,   0.,   0.,   1.,   0.,\n",
       "         0.,   0.,   0.,   0.,   1.,   0.,   0.,   0.,   0.,   0.,   0.,\n",
       "         0.,   1.,   0.,   0.,   0.,   0.,   0.,   0.,   0.,   0.,   0.,\n",
       "         1.,   0.,   0.,   0.,   0.,   0.,   0.,   0.,   0.,   0.,   1.,\n",
       "         1.,   0.,   1.,   0.,   0.,   0.,   0.,   0.,   0.,   0.,   0.,\n",
       "         0.,   0.,   0.,   0.,   0.,   0.,   0.,   0.,   0.,   1.,   1.,\n",
       "         2.,   0.,   0.,   0.,   0.,   0.,   0.,   0.,   0.,   0.,   0.,\n",
       "         0.,   0.,   0.,   0.,   1.,   0.,   1.,   0.,   0.,   0.,   0.,\n",
       "         0.,   0.,   0.,   0.,   0.,   0.,   1.,   1.,   0.,   0.,   0.,\n",
       "         0.,   0.,   1.,   0.,   0.,   0.,   0.,   1.,   0.,   0.,   0.,\n",
       "         0.,   0.,   0.,   0.,   0.,   0.,   0.,   0.,   0.,   0.,   0.,\n",
       "         0.,   1.,   0.,   0.,   0.,   0.,   1.,   0.,   0.,   0.,   0.,\n",
       "         0.,   0.,   0.,   0.,   1.,   0.,   0.,   0.,   0.,   0.,   1.,\n",
       "         0.,   0.,   0.,   0.,   0.,   0.,   0.,   0.,   0.,   0.])"
      ]
     },
     "execution_count": 22,
     "metadata": {},
     "output_type": "execute_result"
    }
   ],
   "source": [
    "X[10,:]"
   ]
  },
  {
   "cell_type": "markdown",
   "metadata": {},
   "source": [
    "## Scikit-learn ##\n",
    "\n",
    "Now that you know how to do it by hand, we can talk about libraries that do it for you.\n",
    "\n",
    "```Scikit-learn``` is a library of machine learning functions for python. \n",
    "Its ```vectorizer``` classes handle nearly the entire process of converting text into bag-of-word vectors.\n",
    "\n",
    "See [here](http://scikit-learn.org/stable/tutorial/text_analytics/working_with_text_data.html) for more documentation."
   ]
  },
  {
   "cell_type": "code",
   "execution_count": 23,
   "metadata": {
    "collapsed": true
   },
   "outputs": [],
   "source": [
    "from sklearn.feature_extraction.text import CountVectorizer"
   ]
  },
  {
   "cell_type": "code",
   "execution_count": 117,
   "metadata": {
    "collapsed": true
   },
   "outputs": [],
   "source": [
    "all_files = sorted(file_glob)"
   ]
  },
  {
   "cell_type": "code",
   "execution_count": 118,
   "metadata": {
    "collapsed": false
   },
   "outputs": [],
   "source": [
    "data = {filename:' '.join(getTokensBetter(filename)) for filename in all_files}"
   ]
  },
  {
   "cell_type": "code",
   "execution_count": 121,
   "metadata": {
    "collapsed": false
   },
   "outputs": [
    {
     "name": "stdout",
     "output_type": "stream",
     "text": [
      "['aa/TheLiberator/Issue of October 14, 1859/story073.txt', 'aa/TheNationalEra/Issues of October 06, 1859/story006.txt', 'aa/TheLiberator/Issue of October 14, 1859/story049.txt']\n"
     ]
    }
   ],
   "source": [
    "print data.keys()[:3]"
   ]
  },
  {
   "cell_type": "code",
   "execution_count": 122,
   "metadata": {
    "collapsed": true
   },
   "outputs": [],
   "source": [
    "vect = CountVectorizer(max_features=1000,decode_error='replace',lowercase=False,tokenizer=tokenizer.tokenize)"
   ]
  },
  {
   "cell_type": "code",
   "execution_count": 123,
   "metadata": {
    "collapsed": false
   },
   "outputs": [],
   "source": [
    "x2 = vect.fit_transform([data[storyname] for storyname in all_files])"
   ]
  },
  {
   "cell_type": "code",
   "execution_count": 124,
   "metadata": {
    "collapsed": false
   },
   "outputs": [
    {
     "data": {
      "text/plain": [
       "<705x1000 sparse matrix of type '<type 'numpy.int64'>'\n",
       "\twith 109258 stored elements in Compressed Sparse Row format>"
      ]
     },
     "execution_count": 124,
     "metadata": {},
     "output_type": "execute_result"
    }
   ],
   "source": [
    "X2"
   ]
  },
  {
   "cell_type": "markdown",
   "metadata": {},
   "source": [
    "Almost the same, but not quite -- the homebrew version has 109392 non-zeros. \n",
    "\n",
    "I've tried to make the preprocessing identical, but it's possible there are some subtle differences.\n",
    "\n",
    "Note also that we are getting a sparse matrix here, instead of an array. This is the more scalable data type that I was talking about."
   ]
  },
  {
   "cell_type": "markdown",
   "metadata": {},
   "source": [
    "# Cosine similarity #\n",
    "\n",
    "From wikipedia:\n",
    "\n",
    "\\begin{align}\n",
    "\\mathbf{a} \\cdot \\mathbf{b} = \n",
    "& || \\mathbf{a} || \\times || \\mathbf{b} || \\times \\cos \\theta_{\\mathbf{a},\\mathbf{b}}\\\\\n",
    "\\cos \\theta_{\\mathbf{a},\\mathbf{b}} = & \\frac{\\mathbf{a} \\cdot \\mathbf{b}}{||\\mathbf{a}||\\times ||\\mathbf{b}||}\n",
    "\\end{align}"
   ]
  },
  {
   "cell_type": "code",
   "execution_count": 143,
   "metadata": {
    "collapsed": true
   },
   "outputs": [],
   "source": [
    "def cossim(a,b):\n",
    "    return np.dot(a,b) / (1e-6 + np.linalg.norm(a) * np.linalg.norm(b))"
   ]
  },
  {
   "cell_type": "code",
   "execution_count": 127,
   "metadata": {
    "collapsed": true
   },
   "outputs": [],
   "source": [
    "x3 = np.array(x2.todense())"
   ]
  },
  {
   "cell_type": "code",
   "execution_count": 128,
   "metadata": {
    "collapsed": false
   },
   "outputs": [
    {
     "name": "stdout",
     "output_type": "stream",
     "text": [
      "575\n",
      "30.7896086367 36.2904946232\n",
      "0.51460119281\n"
     ]
    }
   ],
   "source": [
    "print np.dot(x3[0,:],x3[5,:])\n",
    "print np.linalg.norm(x3[0,:]), np.linalg.norm(x3[5,:])\n",
    "print cossim(x3[0,:],x3[5,:])"
   ]
  },
  {
   "cell_type": "markdown",
   "metadata": {},
   "source": [
    "# K-nearest neighbors clustering #\n",
    "\n",
    "In K-nearest neighbors (KNN), each point is placed in the same cluster as the majority of its $K$-nearest neighbors. Nearness is defined in terms of cosine similarity."
   ]
  },
  {
   "cell_type": "code",
   "execution_count": 144,
   "metadata": {
    "collapsed": false
   },
   "outputs": [],
   "source": [
    "sims = np.zeros((N,N))\n",
    "for i,x_i in enumerate(x3):\n",
    "    for j,x_j in enumerate(x3[i:,:]):\n",
    "        sim_ij = cossim(x_i,x_j)\n",
    "        sims[i,j+i] = sim_ij\n",
    "        sims[j+i,i] = sim_ij"
   ]
  },
  {
   "cell_type": "markdown",
   "metadata": {},
   "source": [
    "Let's see how good this similarity function is."
   ]
  },
  {
   "cell_type": "code",
   "execution_count": 165,
   "metadata": {
    "collapsed": false
   },
   "outputs": [
    {
     "name": "stdout",
     "output_type": "stream",
     "text": [
      "Query: � �� About a month ago , a cargo of slaveswas landed at Trinidad de Cuba . One of theinspectors , a \n",
      "\n",
      "sim 0 PARIS PARIS [ FROM OUR OWN CORRESPONDENT .] Count de Morny ' s address and what is thought of it on \n",
      "sim 1 MISS MULOCH . MISS MULOCH . A RECENT tourist thus gives her impressions of a visit to Miss Muloch : \n",
      "sim 2 THE EMPRESS OF FRANCE . THE EMPRESS OF FRANCE . IT is so seldom that either birth or charm puts a pr\n",
      "\n",
      "dif 7 Collection by C . L . Remond . Collection by C . L . Remond . Table Table Collections by Mrs . F . H\n",
      "dif 8 CHESS . CHESS . PROBLEM No . 213 . � �� By . A . J . H ., Kewanee , Ill . White to play and checkmat\n",
      "dif 9 No order attended to unless the cash accompanies it . All persons requiring answers by mail must sen\n"
     ]
    }
   ],
   "source": [
    "print 'Query:',data[all_files[10]][:100]\n",
    "print ''\n",
    "for i,filenum in enumerate(sims[10,].argsort()[::-1][1:4]):\n",
    "    print 'sim',i,data[all_files[filenum]][:100]\n",
    "print ''\n",
    "for i,filenum in enumerate(sims[10,].argsort()[:10]):\n",
    "    if len(data[all_files[filenum]]) > 20:\n",
    "        print 'dif',i,data[all_files[filenum]][:100]    "
   ]
  },
  {
   "cell_type": "markdown",
   "metadata": {},
   "source": [
    "Looks sort of reasonable? So:\n",
    "\n",
    "1-nearest-neighbor clustering algorithm:\n",
    "\n",
    "- Set $\\text{cluster}(i) = rand(K)$ for all $i$\n",
    "- While not tired\n",
    "    - For instance i in $1\\ldots N$\n",
    "        - Set $\\text{cluster}(i) = \\text{cluster}(j)$ for $j = \\text{argmax}_j(sim(i,j))$"
   ]
  },
  {
   "cell_type": "code",
   "execution_count": 173,
   "metadata": {
    "collapsed": true
   },
   "outputs": [],
   "source": [
    "from scipy.stats import mode"
   ]
  },
  {
   "cell_type": "code",
   "execution_count": 224,
   "metadata": {
    "collapsed": false
   },
   "outputs": [],
   "source": [
    "def doKNN(sims,C,K=3,n_its = 5):\n",
    "    K = 3 #3-nearest-neighrbods\n",
    "    y = np.random.randint(0,C,N) #initialization\n",
    "    for _ in range(n_its):\n",
    "        for i in range(N): #would be better to randomize the order\n",
    "            neighbor_clusters = np.array([y[j] for j in sims[i,:].argsort()[::-1][1:1+K]]) #get clusters of most sim nodes\n",
    "            most_sim = mode(neighbor_clusters)\n",
    "            y[i] = most_sim.mode[0]\n",
    "    return y"
   ]
  },
  {
   "cell_type": "code",
   "execution_count": 198,
   "metadata": {
    "collapsed": true
   },
   "outputs": [],
   "source": [
    "y = doKNN(sims,30)"
   ]
  },
  {
   "cell_type": "markdown",
   "metadata": {},
   "source": [
    "Let's look at the clusters!"
   ]
  },
  {
   "cell_type": "code",
   "execution_count": 202,
   "metadata": {
    "collapsed": true
   },
   "outputs": [],
   "source": [
    "def showCluster(cluster,y):\n",
    "    clust_idxs = [i for i,y_i in enumerate(y) if y_i==cluster]\n",
    "    for c_idx in clust_idxs:\n",
    "        if len(data[all_files[c_idx]]) > 20:\n",
    "            print data[all_files[c_idx]][:100]    "
   ]
  },
  {
   "cell_type": "code",
   "execution_count": 203,
   "metadata": {
    "collapsed": false
   },
   "outputs": [
    {
     "name": "stdout",
     "output_type": "stream",
     "text": [
      "� �� Forty - five slaves were baptised at Richmond , Va ., on a recent Sunday .\n",
      "PARLOR GOSSIP FOR THE LADIES . PARLOR GOSSIP FOR THE LADIES . Who to Choose for a Wife . � �� The Ge\n",
      "FLORENCE DE LACY ; FLORENCE DE LACY ; OR , QUICKSANDS AND WHIRLPOOLS . QUICKSANDS AND WHIRLPOOLS . A\n",
      "FACT , FUN AND FANCY . FACT , FUN AND FANCY . TIPSY WIT . � �� Sheridan was staggering home one nigh\n",
      "FLORENCE DE LACY ; FLORENCE DE LACY ; OR , QUICKSANDS AND WHIRLPOOLS . QUICKSANDS AND WHIRLPOOLS . A\n",
      "FLORENCE DE LACY ; FLORENCE DE LACY ; OR , QUICKSANDS AND WHIRLPOOLS . QUICKSANDS AND WHIRLPOOLS . A\n",
      "FACT , FUN AND FANCY . FACT , FUN AND FANCY . AWFUL ! � �� Why is the east wind like a famous Americ\n",
      "COLONEL EAU DE VIE . COLONEL EAU DE VIE . AT one of our principal hotels the other evening , a party\n",
      "THE SONG OF TO - MORROW . THE SONG OF TO - MORROW . THERE ' S a To - morrow for all of us� �� � �� T\n",
      "FLORENCE DE LACY ; FLORENCE DE LACY ; OR , QUICKSANDS AND WHIRLPOOLS . QUICKSANDS AND WHIRLPOOLS . A\n",
      "Tiour God and Father of be ail , Forgive our faith in cruel lies , Forgive the blindness that denies\n",
      "� �� ANDREW T . FOSS , an Agent of the MassachusettsAnti - Slavery Society , will lecture as follows\n"
     ]
    }
   ],
   "source": [
    "showCluster(10,y)"
   ]
  },
  {
   "cell_type": "code",
   "execution_count": 206,
   "metadata": {
    "collapsed": false
   },
   "outputs": [
    {
     "name": "stdout",
     "output_type": "stream",
     "text": [
      "According to promise , we publish in ourpresent number Mr . SMITH ' S letter to Mr . THOMAS in favor\n",
      "REV . GEO . B . CHEEVER BEFORE THE AMERICANBOARD OF COMMISSIONERS FOR FOREIGNMISSIONS . � �� This ve\n",
      "The United States are just now being honoredby the presence of three distinguishedclergymen from the\n",
      "WASHINGTON , July 14 , 1859 . ASHINGTON Mrs . Lucy Stone� �� Dear Madam : Your kindletter of the 8th\n",
      "� �� Henry Mitchell , a colored man , is in troubledin Boston for forging a note of $ 1 , 062 on Ger\n",
      "� �� The Charleston Mercury says that theobject of John Mitchel in going to France is toget Napoleon\n",
      "When Mr . SEWARD said in his Rochesterspeech , a year ago , that there is an irrepressibleconflict b\n",
      "We had hoped to have been able to havelaid before our readers , in our present number , the resoluti\n",
      "' He has preached both the ballot and the bulletas the means by which slavery is to be destroyedand \n",
      "Resolved , That we approve and reiterate theprinciples laid down in the Cincinnati platformas the tr\n",
      "A party of slave hunters from Missourirecently killed a negro whom they had pursued , in Randolph co\n",
      "ANTHONY BURNS� ��- The excitement connectedwith this liberated slave is likely to be revivedanew . H\n",
      "Religion is fast becoming the Devil ' s favoriteweapon . He uses it on all great occasions , When do\n",
      "The pride of the American people , the thingwhich they most frequently cite as a proof oftheir super\n",
      "Now that the battle and bloodshed in Kansas , which go long rivetted the attention of thepublic , ha\n",
      "Our facetious brother GARNET has amused , but has not entirely convinced us . We did notneed to read\n",
      "HALIFAX , Sept . 15th , 1859 . ALIFAX MY DEAR FRIEND : � �� The Summer , with allits varied charms a\n",
      "PETERBORO , August 27 , 1859 . ETERBORO JOHN THOMAS , Esq ., Syracuse , Chairman of Jerry Rescue Com\n",
      "MR . JAYS REMARKS ON PRESENTING THE PETITIONAGAINST THE SLAVE TRADE , IN THEEPISCOPAL CONVENTION , M\n",
      "PETERBORO , Sept 19 , 1859 . ETERBORO Mr . FREDERICK DOUGLASS : MY DEARFRIEND : � �� I have just rea\n",
      "Barnum is actually said to have offered Mr . Spurgeon , the celebrated English Baptistpreacher , � �\n",
      "[ From the Liberator .] THE STATUE MUST BE REMOVED . Let thisbe the popular decree to morrow� �� let\n",
      "REVIVAL OF THE SLAVE TRADE . � ��' Occasional ' writes from Washington to the PhiladelphiaPress : EV\n",
      "The Rev . John G . Fee , of Kentucky , writes as follows to the Free South , fromFrankfort : Free So\n",
      "SENT TO JAIL FOR COLOR . � �� Color of skinfrom African blood has been made a crime inNew Orleans ! \n",
      "HORSE RAIL CARS IN BALTIMORE . HORSE RAIL CARS IN BALTIMORE . Table Table VIEW OF THE STERN OF THE G\n",
      "LITERATURE . LITERATURE . WE have received from the General Protestant Episcopal Sunday School Union\n",
      "THE SPECTRAL BATTLE - FIELD . THE SPECTRAL BATTLE - FIELD . THE Paris correspondence of the London C\n",
      "A FRENCHMAN ' S IDEA OF NATIONAL GREATNESS . A FRENCHMAN ' S IDEA OF NATIONAL GREATNESS . M . LOISNE\n",
      "Pianofortes . Pianofortes . LIGHTE & BRADBURYS , PIANO FORTE MANUFACTURERS , 421 BROOME STREET , NEW\n",
      "WILLIAM HOLMES , THE MISSING MAN . WILLIAM HOLMES , THE MISSING MAN . AT the earnest request of the \n",
      "SILVER ' S PATENT MARINE GOVERNORS . SILVER ' S PATENT MARINE GOVERNORS . Table Table SILVER ' S PAT\n",
      "COLONEL JOHN R . JOHNSTON . COLONEL JOHN R . JOHNSTON . Table Table COL . JOHN R . JOHNSTON , ARTIST\n",
      "THE EARTH DRYING UP . THE EARTH DRYING UP . FROM an English publication we have the following appall\n",
      "Pianofortes . Pianofortes . LIGHTE & BRADBURYS , PIANO FORTE MANUFACTURERS , 421 BROOME STREET , NEW\n",
      "LITERATURE . LITERATURE . A MOST important work has been issued by W . R . C . CLARKE & MEEKER , 49 \n",
      "Pianofortes . Pianofortes . LIGHTE & BRADBURYS , PIANO FORTE MANUFACTURERS , 421 BROOME STREET , NEW\n",
      "TO THE AMERICAN PUBLIC . TO THE AMERICAN PUBLIC . FRANK LESLIE ' S ILLUSTRATED NEWSPAPER , now near \n",
      "THE DIAMOND WEDDING . THE DIAMOND WEDDING . CUBAN WEALTH . CUBAN WEALTH . OCEANS OF PEARLS AND MINES\n",
      "VOYAGE OF THE ATLANTIC BALLOON . VOYAGE OF THE ATLANTIC BALLOON . Mr . La Mountain ' s Narrative . M\n",
      "OUR NEXT PAPER . OUR NEXT PAPER . TO THE LADIES . TO THE LADIES . In our next issue we shall continu\n",
      "LITERATURE , ART , MUSIC , & c . LITERATURE , ART , MUSIC , & c . WE have received from SHELDON & Co\n",
      "A HARDENED CRIMINAL . A HARDENED CRIMINAL . A SHORT time since John Mahoney , alias Robert McCorrie \n",
      "Pianofortes . Pianofortes . LIGHTE & BRADBURYS , PIANO FORTE MANUFACTURERS , 421 BROOME STREET , NEW\n",
      "POLITICAL . POLITICAL . Letter No . 2 from an Old Statesman . Letter No . 2 from an Old Statesman . \n",
      "Pianofortes . Pianofortes . LIGHTE & BRADBURYS , PIANO FORTE MANUFACTURERS , 421 BROOME STREET , NEW\n",
      "THIS mantle , whilst partaking largely of the general characteristics of the garments of the season \n",
      "THE Cora mantle may be made either loose or fitting to � � he figure , and the material may be of si\n",
      "IT was a sweet little bird ' s nest of a home to which Arthur Maberry , Esquire , bore his young bri\n",
      "THE aquarium opened to us a new world ; unfolded wonders and beauties of which we had no conception \n",
      "( See plate . � � THE little cottage opposite is rented ; and the new tenant moved in to - day , � �\n",
      "A GOOD DEFINITION . � � At a social party tone evening , the question was put , � � What is religion\n",
      "� � Do come to the winder , Lizzie , � � said Aunt Tabitha , � � and see that wild cherry - tree ove\n",
      "� � With weary foot and broken wing , With bleeding heart and sore , Thy dove looks backwards sorrow\n",
      "MEMORIA .( To J . F .) DEAR friend , a thought has stricken the sweet chord Of memory , and through \n",
      "Ill Effects of Curling Irons . � � There is also another very injurious practice , not so extensivel\n",
      "PROVIDENCE , June 7 , 1859 . June 7 , L . A . GODEY , ESQ . DEAR SIR : I was so much pleased with an\n",
      "LIFE ' S MORNING - LAND . BY JOHN B . DUFFEY . LIFE ' S Morning - Land� � how beautiful It is ! With\n",
      "MY first� � yethow shall I express first� � What language ne ' er explain ' d ? Ah , no ! let Anna '\n",
      "CUT of white cashmere , braid with crimson silk braid . Line it with crimson satin , quilted ; put o\n",
      "See Diagram , page 355 . IN selecting one of the newest and prettiest dresses of the season for illu\n",
      "IT IS worked in two colors , crimson and deep maize , blue and deep maize , light and dark green , b\n",
      "No . 1 . � � The materials required for this border are white O . P . beads , with one dark color , \n",
      "BASKETS in a variety of elegant forms , adapted both for use and ornament , may be constructed of gl\n",
      "Materials . � � Chenille , cherry - colored , garnet , light green , dark green , apple - green ; be\n",
      "No . 1 . � � Cut card in the shape given in the picture , and cover it with satin , embroidered with\n",
      "AN excellent feature of this skirt is the impossibility of any ripping or tearing of the tapes , as \n",
      "IN all these joints the plan of boiling suggested by Liebig is the most economical , and also the be\n",
      "IN the April number of the Edinburgh Review * is an able article on woman ' s work and its reward in\n",
      "A PHYSICIAN ' S ADVICE . � � The following may be useful to other young ladies , as well as to the p\n",
      "FALLING OF THE PALATE . � � The soft palate , or the little , round , teatlike body in the upper and\n",
      "OUR ENGRAVINGS . � � � � Waiting for the Verdict� � is , we think , the most impressive plate we hav\n",
      "FOR the benefit of our young friends , we give in our own department a series of engravings to amuse\n",
      "WE call attention to the peculiar appropriateness of the Fall cloaks in this number . TOILET CURL CL\n",
      "IN our May number we mentioned that Messrs Boardman , Gray & Co ., of Albany , New York , were about\n",
      "No order attended to unless the cash accompanies it . All persons requiring answers by mail must sen\n",
      "Zinc and Iron . 289 . Some metal zinc in very fine shavings ; sulphate of zinc ( crystallized ); sul\n",
      "THOSE who have read the � � Life of Headly Vicars� � and � � English Hearts and Hands� � will readil\n",
      "SKETCHING an autumn garden , our favorite Miss White thus pictures its desolation :- � � In the bord\n",
      "1 . � � CAN you tell me whether jet is a mineral ? It seems to me too light , yet it is carved like \n",
      "( See engraving , page DRESS of chine mohair , a serviceable lustrous material , of which there are \n",
      "( See engravings , page 295 .) No . 1 . � � Material , light ladies ' cloth , gray or ashes of roses\n",
      "( See engraving , page FRONT hair in rolled bandeaux ; the back hair tied and turned over a cushion \n",
      "( See engraving , page No . 1 has a small double collar and band extending from the throat , scallop\n",
      "To fall into the subject of our fashion - plate , let us glance at some of the new styles for trimmi\n",
      "Dallas , in this State , has recenty been the sceneof considerable excitement , owing to the presenc\n",
      "� �� Mrs . R . J . Tracy , writing to the MemphisAppeal , from Holly Springs , ( Miss .) having seen\n",
      "The Rev . S . J . May , one of the earliest foundersof the Anti - Slavery movement in America , havi\n",
      "The lecture last week at Burlington , by Mr . Giddings , was largely attended , and among others byG\n",
      "The speech of Senator Crittenden at the NationalAgricultural Fair at Chicago , is chiefly noteworthy\n",
      "Nothing more strikingly shows the downwardprogress of Modern Democracy than its efforts to decitizen\n",
      "The Democracy of the nation has its strongholdin the South . Thence comes its numerical strengthin C\n",
      "It throws the Democratic papers into extacieswhenever they find a case of marked cruelty outsideof s\n",
      "' Kansas is to - day , by virtue of the Constitution , a slave State as much as Georgia or South Car\n",
      "We see it stated in several of our exchanges , thatat the recent session of the General Assembly of \n",
      "The Rev . Dr . Edgar and an associate from Irelandare now making their appeals to the American evang\n",
      "To the Editors of the Freeman : GENTLEMEN , � �� TheAmerican Abolitionists have long complained of t\n",
      "Tuesday evening , the second course of lectures , under thedirection o the Fraternity Association of\n",
      "The following forms of Petitione� �� the first havingreference to slave - hunting in this States , t\n",
      "A meeting , called by officers of this Association , and designed to promote its purposes , was hold\n",
      "A BOLD , TIMELY AND ELOSUNY LETTERS . Tofirst of the course of the ' Fraternity Lotuses ' usdelivere\n",
      "THE SEREWIOR CONCERT COMPANY . This troupegave an excellent concert last Friday evening , at theMeri\n",
      "Preached September 18th , 1859 , by SAMUEL JOHNSON , Minister of the Free Church of Lynn , Mass . Pr\n",
      "WORCESTER , Oct . 8 . 1850 , ORCESTER EDITOR OF THE LIBERATOR : � �� At the regular mouthlybusiness \n",
      "The statue of Mr . Webster is likely to prove a Trojanhorse to those who voted in favor of placing i\n",
      "Let Umm persons to whom the petitions far the removalof the statue of Daniel Webster from the StateH\n",
      "THE FUGITIVE SLAVE LAW . The United StatesDistrict Attorney has filed , with Supreme Courtof Wiscons\n",
      "� �� A MASS MEETING will be held at FaneuilHail , on Monday evening , Oct . 10 , 1859 , at half - pa\n",
      "He had a manly form as e ' or we find ; One scarcely in an age has such a mind : Nature to him did s\n",
      "A street that stretches a mile or moreUnder the am - trees ' shade , In cloistral arches of holy gra\n",
      "O , Word that broke the stillness first , Sound on ! and never cease , Till all earth ' s darkness b\n",
      "A new chapter has been added to the book oflamentations since a distinguished scholar and oratorof M\n",
      "A Mississippi Paper ( the Cross City ) thus givesits reasons for inhering the re - opening if the fo\n",
      "NEW YORK , Sept . 23 , 1859 . EW ORK To the Editor of the N . Y . Daily News : To the Editor of the \n",
      "' My public speeches show my opinion to havebeen decidedly in favor of a proper , EFFICIENT , andwel\n",
      "There was once a female nuisance called AbbeyFolsom , who went to all the conventions she couldget ,\n",
      "It is singular but indisputable fact that come ofthose men whose example has become most perniciousw\n",
      "The question of slavery is the great problem ofthe present age . It will not be ignored ; it cannotb\n",
      "It does not seem to be very difficult , says theSpringfield Republican , to sell white men and women\n",
      "The following document fem circulation in NewYork : APPEAL TO THE PEOPLE OF THE STATE OF NEW YORK . \n",
      "MR . JAY ' S REMARKS ON PRESENTING THE PETITIONAGAINST THE SLAVE TRADE , IN THE EPISCOPAL CONVENTION\n",
      "Ask the next person you most , under thirty yearsof age , a question implying a knowledge of someman\n",
      "Boston Correspondence of the Anti - Slavery Standard . The other great event , since my last - lette\n",
      "We suppose Mr . Everett will have an opportunityof delivering his oration on the Stats House Platfor\n",
      "The Boston Courier is highly indignant at the propositionto erect the statue of Hearse Mann on theSt\n",
      "Just before our great anti - slavery meeting inGlasgow , news reached us that ' the Defender of theC\n",
      "The following forms of Petitions� �� the first havingreference to slave - holding in this State , th\n",
      "At a special meeting of the Board of Managers ofthe Massachusetts Anti - Slavery Society , hold on t\n",
      "MARIUS R . ROBINSON , of Ohio , is an Agent of theAmerican Anti - Slavery , and as such is commended\n",
      "A CASE OF INTEREST . ' There is in one of theSouthern States , in a liberty institution , a negroman\n",
      "� �� Our readers in Maine , New Hampshire , RhodeIsland and New York are reminded of the petitionsfo\n",
      "DEAR MR . GARRISON : EAR R . ARRISON Last evening , we attended a lecture on the ChurchAnti - Slaver\n",
      "MR . EDITOR� �� As a member of this community , Icannot be silent under the imputation that we heldt\n",
      "At a public meeting in the Town Hall in the cityif Hallowell , ( Me .,) on the evening of Tuesday , \n",
      "WORCESTER , Oct . 3 , 1859 . ORCESTER Editor of the Liberator : Editor of the Liberator Since writin\n",
      "DEAR MR . GARRISON : EAR R . ARRISON Our little village is in quite an agitation . ' Strawsshow whic\n",
      "At the annual meeting of the Americas Board ofCommissioners for Foreign Missions , at Philadelphia ,\n",
      "The recent lecture of Wendell Phillips , at the TremontTemple , and his letter to Judge Shaw and Pre\n",
      "FADINE AWAY ! The Southern ( Marshall country ,) says : ADINE WAY Southern The South is becoming so \n",
      "� �� Mr . Douglas is violently assailed in the Atlanta ( Ga .) Intelligencer . He is called the Bull\n",
      "� �� The Montgomery ( Ala .) Advertiser says : Advertiser ' We are confident that Douglas can neithe\n",
      "� �� The New Orleans Crescent tries to make outthat the talk at the South about re - opening of theS\n",
      "FATAL DUEL IN CALIFORNLA . The overland mailof the 16th of September , which reached St . Louis onSa\n",
      "� �� Mr . Corwin appears to be bent upon makinghimself as odious to the Republicans as possible , by\n",
      "COLORED MILITARY MEN AND COLORED MVMEWhile Massachusetts is endeavoring to foster and encouragedark \n",
      "At Richmond , in the moth of ManI climbed the city ' s lofty crest ; Below , the level landscape lay\n",
      "BY JOHN C . WHITTIER . The Persian to his altars boreSweet blossoms fresh with morning dew , And vei\n",
      "The practice of ' saying that which is not ' has hada large currency in all parts of the world , exc\n",
      "Adapted at the Annual Meeting of the Western AntiSlaverySociety , held at Alliances , Ohio , Septemb\n",
      "KARLVILLE ( La Sails county . Illinois ,) September 14 , 17859 . ARLVILLE DEAR MR . GARRISON : EAR R\n",
      "Between from Gen . Benjamin F . Butler ' s letter , accepting hisnomination as candidate for Governo\n",
      "During the repetition of Mr . Everett ' s eulogy onDaniel Webster at Boston , petitions for the remo\n",
      "From the ( Washington ) States . From the Washington States . In our issue of Monday , we published \n",
      "' When nothing else will answer , they [ the abolitionists ] invoke religion , and speak of the \" hi\n",
      "The Boston correspondent of the New York Tribunethus wrote to that paper a short time since : Tribun\n",
      "A friend in Boston sends as for publication thefollowing extract of a private letter from THEODOREPA\n",
      "To the Editors of the N . Y . Tribune : To the Editors of the N . Y . Tribune SIR : Half a million o\n",
      "Acknowledging the receipt of the Annual Reportsof the Executive Committee of the American Anti - Sla\n",
      "The American Board of Commissioners for ForeignMissions constitute the largest missionary organizati\n",
      "The questions at present agitating the city of Bostonare , whether Mr . Daniel Webster was like Demo\n",
      "The record of other events of pressing interestin this week ' s paper leave us but small space forth\n",
      "THE VIRGINIA INSURRECTION . The particular ofa misguided , wild , and apparently insane , though dis\n",
      "MACHIAS , ( Ma ,) Sept . 17 , 1859 . ACHIAS These and side , with some other accessories to locomoti\n",
      "ST . JOSEPH , ( Missouri ,) Oct . 6 , 1859 . T . OSEPH The tree has not yet fallon , but the axe of \n",
      "FREND GARRISON : REND ARRISON I am afraid the editor of the American Messengeris becoming heretical \n",
      "The annual meeting of the Pennsylvania Anti - SlaverySociety was held at West Chester on the 6th and\n",
      "Insurrection at Harper ' s Furry� �� Public Works seizedby the Insurgents� ��' Ottawatomie ' Brown t\n",
      "MARIUS R . ROBINSON , of Ohio , is an Agent of theAmerican Anti - Slavery Society , and as such is c\n",
      "BY J . C . SAXE . Again I hear that creaking stop ! He ' s rapping at the door ! Too well I know the\n",
      "BY J . C . PRECEVAR . He comes not� �� I have watched the mean go down . But yet he comes not . Once\n",
      "THEODORE PARKER AND HIS THEOLOGY a Discoursedelivered in the Music Hall , Boston , Sunday , Sept . 2\n",
      "� �� The Rev . Abram Pryne , of Wayne country , Pa ., having challenged Person Brownlow to anotheror\n",
      "No wonder that some of the leading organsof Republicanism writhe under the disclosures atHarper ' s \n",
      "The ' irrepressible conflict ' seems to have begun , and been as quickly repressed . The spirit and \n",
      "The theory started shoat the Harper ' s Fairy business , by some of the Republican journals , in ord\n",
      "The Republican party can be held responsible onlyfor the tendency of its principles and doctrines as\n",
      "It must be expected that the organ of the pro - slaveryinterest would attempts to fix a portion of t\n",
      "Already the rats are leaving the sinking ship . Every where , those who have heretofore pleasantlyfr\n",
      "ENOWN ' S APPRARANS . The reporter of the BaltimoreAmerican , who gives a lengthened account of acon\n",
      "While coming to this city , on Saturday , I firstread a telegraph dispatch from Washington , saying \n",
      "We have devoted a large portion of our presentnumber to the publication of such particulars of thewe\n",
      "� �� The New York Journal of Commerce , with itscharacteristic mendacity , says that the Liberator ,\n",
      "The telegraph has reported , and the periodical presshas circulated throughout the country , details\n",
      "An excellent lecture on ' Monday Infidelity ' wasgiven on Tuesday evening , to a crowded audience , \n",
      "WEST GOUDSEDING ', Oct . 10 , 1859 . EST OUDSEDING DEAR MR . GARRISON : EAR R . ARRISON Already have\n",
      "This bold , talented , educated , and truly eloquentAgent of the American Anti - Slavery Society del\n",
      "BY N . G . MACDONALD . There heat stands thick on many a northern field , On miles of prairie GLEAMS\n",
      "BY DAVID BARKER . I know that the world , that the great big world , From the peasant up to the king\n",
      "� �� the following admiration letter , addressed to ameeting of the Friends of Human Progress , rece\n",
      "At the class of services at the Music Hall on Sunday , the 18th inst ., a parish meeting of the Twen\n",
      "At the law meeting in Faneuil Hall , in behalf ofthe Indianan , Wendell Phillips , Esq . said manyth\n",
      "While lounging the other day in a medical library , I chanced to take up a little volume , the odd t\n",
      "It is strange enough that faith and love should have waxed so chill and dead among the Jews of old ,\n",
      "The Athenaeum , reviewing Colonel Fuller ' s book , � � Sparks from a Locomotive , or Life and Liber\n",
      "How the Promise was Extorted I am a medical man , residing , as my wife informs her relatives , in t\n",
      "August 24 , 1859 . August To the Editor of the National Era : It seems to be a mooted question here \n",
      "DOUGLAS IN GEORGIA . The Columbus ( Ga .) Inquirer says that some of the Democratic candidates in th\n",
      "It is impossible to regard Mr . Douglas in any other light than as a mere politician of expedients .\n",
      "We call the attention of the reader to the advertisement of this Institution , which is to be under \n",
      "The Richmond Whig is insisting on the necessity of overthrowing the Democracy in that State and thro\n",
      "The New York Day Book quotes with marks of its warm approbation an article from a journal styled the\n",
      "The Protestant Episcopal Convention of Eastern New York was in session in that city last week . The \n",
      "THE DOCTOR DISAGREE . President Buchanan , in his famous letter to Professor Silliman , says : � � I\n",
      "MINNESOTA . From Minnesota , we have the most encouraging accounts . The Republicans expect to elect\n",
      "The domestic slave trade presents one of the most odious and abhorrent features of the system , of w\n",
      "The Richmond Whig , Nashville Banner , and Louisville Journal , the three leading organs of the Sout\n",
      "Sept . To the Editor of the National Era : I feel much solicitude in reference to the action of the \n",
      "THE SAN JUAN CLAIM TO BE MAINTAINEDTHE CALIFORNIA MAILS , & c . Washington , Sept . 30 . The stateme\n",
      "THE COHESIVE POWER . J . C . Underwood , Esq ., of Virginia , made a speech in Maine recently , in w\n",
      "If any people in the world ever needed an apostle to cast their devils out , it is ours who live in \n",
      "Attorney General Black , in his recent pamphlet in reply to Mr . Douglas , lays down the following p\n",
      "Mr . Douglas , in his speech at Wooster , Ohio , fully and thoroughly re - endorses the Dred Scott d\n",
      "The Richmond Whig , a day or two since , had a letter from New York , which contained the following \n",
      "A recent traveller in Africa , Paul B . du Chaillu , a young French gentleman , who , we believe , h\n",
      "A NUT FOR OLD LINE WHIGS . The Charleston Mercury denounces Henry Clay as � � a charlatan and a trai\n",
      "SENATOR DOUGLAS AND WOMAN ' S RIGHTS . The following letter is now going the rounds of our exchanges\n",
      "WASHINGTON , D . C .----- For the National Era . PILATE ' S WIFE ' S DREAM .----- BY LOUISE E . VICK\n",
      "Your entertaining journal seldom fails in cordial recognition of whatever indicates progressive tend\n",
      "Finding myself about two leagues from Seville , in the picturesque village of Alcal� de Guadaira , b\n",
      "A student of Antioch College furnishes the following interesting particulars of the death - bed of H\n",
      "FUGITIVE SLAVES IN CUBA . A person named Don Miguel Caro , having , at the head of a party , succeed\n",
      "Much , very much remains to be done for the Africans in America , by masters , mistresses , minister\n",
      "CHOATE ' S READING AND RELIGION . The eulogy upon Rufus Choate given by Professor Parsons , before t\n",
      "NOTES ON ITALIAN AFFAIRS . The Zurich Conferences are dwindling into insignificance . The Austrian r\n",
      "ARREST OF THE FIILBUSTERS . New Orleans , Oct . 7 . The filibusters have all been arrested at the pa\n",
      "There is a studious effort on the part of demagogues to create the impression that the Republican pa\n",
      "The following dispatches to the Northern journals from this city , under date of October 4 , make it\n",
      "The Black Democratic portion of the Board of Supervisors in New York city , availing themselves of t\n",
      "It was the policy of Slavery Propagandists , some months ago , to assert very confidently that the A\n",
      "� � DISCOVERY OF A BAND OF YOUNG THIEVES . A resident of Medford , Mass ., having occasion to enter \n",
      "THE PRESIDENT IN THE FIELDHIS FALLNo one can mistake the object of President Buchanan ' s visit to P\n",
      "MAJOR TOCHMAN TURNED DEMOCRAT . Major Tochman , who resides in Alexandria county , Virginia , near t\n",
      "KIDNAPPING . The Missouri Republican of August 2d has the following : � � A runaway negro was taken \n",
      "The National Intelligencer presents the dilemma in which the Administration will find itself at the \n",
      "DOUGLAS IN VIRGINIA . The doctrines of Mr . Douglas find no support among the Democracy of Virginia \n",
      "SLAVE PROPERTY . The favorite argument , says the Albany Journal , of the slaveholder ' s right to t\n",
      "A long list of names is published of wealthy and influential Democrats in New York , who propose to \n",
      "ANNEXATION OF WEST FLORIDA TO ALABAMA . The Governor of Florida has issued a proclamation directing \n",
      "Mr . Haddock ' s Account . From the Watertown Reformer , ( Extra .) Oct . 7 Nearly every one in this\n",
      "WATER GAS . On Saturday evening last , the city of Wilmington was lighted with gas made from water ,\n",
      "St . Louis , Oct . 8 . The overland mail of the 16th , which arrived here to - day , brings intellig\n",
      "WASHINGTON , D . C . From the New York Independent , Sept . 29 . AT RICHMOND . By William Allen Butl\n",
      "From the late speech of the Hon . Lyman Trumbull , at Sandusky , Ohio , we make the following extrac\n",
      "The Eagle of the South , a Mississippi paper , has the following : � � Good Picking . Messrs . Henry\n",
      "SOUND VIEWS . In a recent speech , the Hon . A . Lincoln , of Illinois , thus expresses himself on t\n",
      "The Charleston Mercury publishes the following letter from a Southerner in Kansas , remarking , that\n",
      "A TRACT CONVENTION FOR THE WEST . The � � General Association of Illinois , � � at its recent meetin\n",
      "CONSISTENCY . One of the leading cardinal measures of the � � American party� � was a Registry Law .\n",
      "Aug . DEAR G ***: Last evening , Mrs . C ----- and myself attended the Presbyterian church , and hea\n",
      "Got one ? Don ' t say no ! Which did you get ? One of the kind to open and shet ? Own it or hire it \n",
      "THE LABOR QUESTION . The late suicide of a seamstress in Philadelphia , � � because she could not ob\n",
      "To the Editor of the National Era : To the Editor of the National Era � � Netta ' s� � charming note\n",
      "A WOMAN ' S QUESTION .----- Before I trust my fate to thee , Or place my hand in thine , Before I le\n",
      "In which the � � World of New York� � Experiences an Earthquake There had been rumors of It , upon '\n",
      "Africanization of the United StatesHow it May be Prevented The destiny of the white and black races \n",
      "The following letters from Mr . Jefferson , written before and during his Presidential term , read v\n",
      "From a paragraph in a Boston paper , we learn that a gentleman of Portland , Mr . Poor , has recentl\n",
      "The Richmond Enquirer estimates the population of that city and suburbs at 45 , 000 , of which 15 , \n",
      "Mr . Douglas is a man of brave words , but in action he shows hesitation and timidity . In his speec\n",
      "The New York Express , which has heretofore been regarded as one of the leading � � American� � and \n",
      "We announced last week that Senator Broderick , of California , had been killed in a duel near San F\n",
      "A FREE PRESS . The New Orleans Crescent , commenting on the increase of Free - Soil papers in the sl\n",
      "Washington , Oct . 13 . No action has been taken by the Administration in response to any communicat\n",
      "The community was startled on Monday by a report from Harper ' s Ferry , that the negroes had revolt\n",
      "NEW YORK . The Herald gives up the contest in New York , and concedes that the Republicans will have\n",
      "A Book for every Member of every Family to Read Author of � � John Halifax Gentlemen . � � � � Olive\n",
      "Governor Chase , of Ohio , recently made a speech at Wooster , in that State , from which we take th\n",
      "MR . EDITOR : You published , a few weeks since , a couple of essays , showing most conclusively the\n",
      "� � Considerable attention was yesterday attracted on Market Square , by six wagon loads of negroes \n",
      "Mr . Buchanan ' s New York organ , the Herald , presents its readers with the following daguerreotyp\n",
      "LIBERIAN INTELLIGENCE . By arrivals from Monrovia , intelligence has been received to the 3d of Augu\n",
      "Outlawed . Although I cannot say that I entirely subscribe to the doctrine so often put forward , th\n",
      "CAMP AT GYPSUM SPRINGS . To the Editor of the National Era : Soldiers in general , and cavalry troop\n",
      "For the National Era . � � AS UNKNOWN AND YET WELL KNOWN . � � St . Paul . BY C . A . M . Oh , weary\n",
      "To the Editor of the National Era : To the Editor of the National Era : Many of the English newspape\n",
      "A London journal , discussing American politics , has the following valuable information ; � � The P\n",
      "The early poets , prophets , bards , and scalds , cast their eyes heavenward , sighed for the wings \n",
      "The intrepid and scientific travellers , Captains Burton and Speke , conquering a thousand difficult\n",
      "TURIN , September 27 , 1859 . To the Editor of the National Era : To the Editor of the National Era \n",
      "We give place this week to a long and interesting account of the revolutionary attempt at Harper ' s\n",
      "A CARD FROM MR . GIDDINGS .- We copy from the Philadelphia North American a card from Mr . Giddings \n",
      "The Washington States , the Douglas organ in this city , renews its threat of a coup d ' � � tal in \n",
      "The following incendiary article appeared in the Washington States , the Douglas organ , on Tuesday \n",
      "The killing of Senator Broderick in a duel by Judge Terry is one of the most execrable tragedies in \n",
      "Almost a Heroine By the author of � � Charles Auchester , � � � � Counterparts , � � & c ., & c . Bo\n",
      "THE RICHMOND ENQUIRER BACKING DOWN . The Richmond Enquirer , a few weeks ago , declared that the doc\n",
      "ITALY . Madame Mario writes to the New York Times the gratifying intelligence that Mazzini has aband\n",
      "We have seen various speculations in the press as to the question of jurisdiction in the case of the\n",
      "October 24 , 1859 . October While coming to this city , on Saturday , I first read a telegraphic dis\n",
      "October 24 , 1859 . October At a meeting of the Republican Association on Saturday evening , October\n",
      "Washington , Oct . 24 . Mr . Greenwood , Commissioner of Indian Affairs , has returned to this city \n",
      "FROM CALIFORNIA . New York , Oct . 24 . The steamer Baltic arrived this evening , bringing Californi\n",
      "FROM TEXAS . New Orleans , Oct . 24 . Dates from Galveston to the 20th instant represent the fever a\n",
      "We make further extracts from the excellent speech of Mr . Chase at Wooster , Ohio , in exposition o\n",
      "Long known as the Casparis House , Washington , D . C . THIS excellent establishment is most eligibl\n",
      "BESIDES the ILLUSTRATED EDITION , ( 50 cents a number , or $ 5 in whole .) Mr . Stockton has just is\n"
     ]
    }
   ],
   "source": [
    "showCluster(1,y)"
   ]
  },
  {
   "cell_type": "markdown",
   "metadata": {},
   "source": [
    "# Making it better: TF-IDF #"
   ]
  },
  {
   "cell_type": "code",
   "execution_count": 207,
   "metadata": {
    "collapsed": true
   },
   "outputs": [],
   "source": [
    "from sklearn.feature_extraction.text import TfidfTransformer"
   ]
  },
  {
   "cell_type": "code",
   "execution_count": 209,
   "metadata": {
    "collapsed": true
   },
   "outputs": [],
   "source": [
    "transformer = TfidfTransformer()"
   ]
  },
  {
   "cell_type": "code",
   "execution_count": 220,
   "metadata": {
    "collapsed": false
   },
   "outputs": [],
   "source": [
    "x3_tfidf = np.array(transformer.fit_transform(x3).todense())"
   ]
  },
  {
   "cell_type": "code",
   "execution_count": 221,
   "metadata": {
    "collapsed": false
   },
   "outputs": [
    {
     "data": {
      "text/plain": [
       "array([ 0.        ,  0.        ,  0.        ,  0.        ,  0.        ,\n",
       "        0.        ,  0.        ,  0.        ,  0.        ,  0.26164387,\n",
       "        0.        ,  0.        ,  0.06638311,  0.6559655 ,  0.        ,\n",
       "        0.        ,  0.        ,  0.        ,  0.        ,  0.        ,\n",
       "        0.        ,  0.        ,  0.        ,  0.        ,  0.        ,\n",
       "        0.        ,  0.        ,  0.        ,  0.09130047,  0.        ,\n",
       "        0.        ,  0.        ,  0.10496208,  0.04579454,  0.        ,\n",
       "        0.        ,  0.        ,  0.08646348,  0.09999254,  0.        ,\n",
       "        0.        ,  0.        ,  0.        ,  0.        ,  0.        ,\n",
       "        0.        ,  0.        ,  0.        ,  0.        ,  0.        ])"
      ]
     },
     "execution_count": 221,
     "metadata": {},
     "output_type": "execute_result"
    }
   ],
   "source": [
    "x3_tfidf[0,:50]"
   ]
  },
  {
   "cell_type": "code",
   "execution_count": 235,
   "metadata": {
    "collapsed": false
   },
   "outputs": [],
   "source": [
    "sims_tfidf = np.zeros((N,N))\n",
    "for i,x_i in enumerate(x3_tfidf):\n",
    "    for j,x_j in enumerate(x3_tfidf[i:,:]):\n",
    "        sim_ij = cossim(x_i,x_j)\n",
    "        sims_tfidf[i,j+i] = sim_ij\n",
    "        sims_tfidf[j+i,i] = sim_ij"
   ]
  },
  {
   "cell_type": "code",
   "execution_count": 236,
   "metadata": {
    "collapsed": true
   },
   "outputs": [],
   "source": [
    "y_tfidf = doKNN(sims_tfidf,30,n_its=10)"
   ]
  },
  {
   "cell_type": "code",
   "execution_count": 241,
   "metadata": {
    "collapsed": false
   },
   "outputs": [
    {
     "name": "stdout",
     "output_type": "stream",
     "text": [
      "THE GREAT EASTERN STEAMSHIP PICTORIAL , THE GREAT EASTERN STEAMSHIP PICTORIAL , BY FRANK LESLIE . TH\n",
      "THE PROPELLER ENGINE - ROOM OF THE GREAT EASTERN . THE PROPELLER ENGINE - ROOM OF THE GREAT EASTERN \n",
      "THE ACCIDENT ON BOARD THE GREAT EASTERN . THE ACCIDENT ON BOARD THE GREAT EASTERN . Table Table PLAN\n",
      "HYDRAULIC RAMS USED AT THE LAUNCHING OF THE GREAT EASTERN . HYDRAULIC RAMS USED AT THE LAUNCHING OF \n",
      "THE BATTLE OF THE PEIHO . THE BATTLE OF THE PEIHO . THE engraving of the attack by the Allied forces\n",
      "THE SONS OF MALTA . THE SONS OF MALTA . Table Table TOE DIAMOND WEDDING� �� SCENE IN THE CATHEDRAL� \n",
      "All letters for the National Era must be addressed to Mrs . M . L . BAILEY , National Era , Washingt\n",
      "TO ADVERTISERS . Business men will find it greatly to their advantage to advertise in the Era . Mess\n",
      "All letters for the National Era must be addressed to Mrs . M . L . BAILEY , National Era , Washingt\n"
     ]
    }
   ],
   "source": [
    "showCluster(0,y_tfidf)"
   ]
  },
  {
   "cell_type": "code",
   "execution_count": 246,
   "metadata": {
    "collapsed": false
   },
   "outputs": [
    {
     "name": "stdout",
     "output_type": "stream",
     "text": [
      "PETERBORO , Sept 19 , 1859 . ETERBORO Mr . FREDERICK DOUGLASS : MY DEARFRIEND : � �� I have just rea\n",
      "� �� There are now ten Anti - Slavery papersprinted in the Slave States ( in English ,) besideeight \n",
      "OCTOBER NUMBER OCTOBER NUMBER FRANK LESLIE ' S FRANK LESLIE ' S NEW FAMILY MAGAZINE . THE October nu\n",
      "WILLIAM HOLMES , THE MISSING MAN . WILLIAM HOLMES , THE MISSING MAN . AT the earnest request of the \n",
      "SIX HOURS AT COURT . SIX HOURS AT COURT . WITH a negative capital of eight hundred dollars , a borro\n",
      "FRANK LESLIE ' S FRANK LESLIE ' S Illustrirte Zeitung , Illustrirte Zeitung , Illustrirte Zeitung ,\n",
      "� � I DON ' T think you seem very glad to gel home , Anne , I must say . � � Mrs . Harrison ' E face\n",
      "� � A LETTER from father ! � � shouted Robert Murray , as he came running up the short gravel - walk\n",
      "� � With wild surprise , As It to marble struck , devoid of sense , A stupid moment motionless she s\n",
      "PROVIDENCE , June 7 , 1859 . June 7 , L . A . GODEY , ESQ . DEAR SIR : I was so much pleased with an\n",
      "� �� Mrs . R . J . Tracy , writing to the MemphisAppeal , from Holly Springs , ( Miss .) having seen\n",
      "WORCESTER , Oct . 8 . 1850 , ORCESTER EDITOR OF THE LIBERATOR : � �� At the regular mouthlybusiness \n",
      "SAD CALAMITY . � �� The Main Street Canal Bridge , inAlbion , New York , fell in on Wednesday aftern\n",
      "One First Pair , or Many ? One First Pair , or Many Dr . WM . SYMINGTON BROWN has prepared a LyceumL\n",
      "SPRINGFIELD STREET , BOSTON . PRINGFIELD TREET OSTON . THE Twelfth Annual Term will commence onWEDNE\n",
      "' We can answer this question by saying that wehave already seen persons who have derived benefitfro\n",
      "SNOW ' S PATHFINDER ' S GUIDE . This little monthly , which is so very useful as to be an absolute n\n",
      "FREE VS SLAVE LABOR . The Savannah New saysthat a contractor on the Main Frank , Road , unable topro\n",
      "One First Pair , or Many One First Pair , or Many Dr . WM . SYMINGTON BROWN has prepared a LyeeumLec\n",
      "READ THE FOLLWING , AND JUDGE FORYOURSELF . TO THE ED ' S OF EVANGBLNT� �� My age is sixty , One yea\n",
      "SFRINGFIELD STREET , BOSTON . FRINGFIELD TREET THE Twelfth Annual Tern will common aWEDNESDAY , Nov \n",
      "When Edward Everett delivered his oration onWebster for the first time , it contained a paragraphsta\n",
      "BY J . C . SAXE . Again I hear that creaking stop ! He ' s rapping at the door ! Too well I know the\n",
      "BY J . C . PRECEVAR . He comes not� �� I have watched the mean go down . But yet he comes not . Once\n",
      "� �� The Rev . Abram Pryne , of Wayne country , Pa ., having challenged Person Brownlow to anotheror\n",
      "The only preparation that has aEUROPEAN REPUTATION . Warranted not to contain deleterious substances\n",
      "On Tuesday afternoon , 18th inst ., Senator Mason , Col . Fanlkner , ( member of Congress , who live\n",
      "By the following letter , ( which , though written forour private personal , we take the liberty to \n",
      "CHARLESTOWN , Va . Oct . 25 . Eight magistratesare on the bench , Oleos Davenport presiding justice \n",
      "There will be a general rally of the true friendsof humanity and the slaves , for Michigan and Weste\n",
      "TO THE ED ' S OF EVANGELIST : � ��' My age is simply . One year ago , my hair was very gray , and ha\n",
      "THE SAN JUAN CLAIM TO BE MAINTAINEDTHE CALIFORNIA MAILS , & c . Washington , Sept . 30 . The stateme\n",
      "THE PUGET SOUND CONTROVERSY . By the arrival of the Moses Taylor , we have San Francisco dates to th\n",
      "Published weekly in THE INDEPENDENT .----- IN addition to the interesting , matter contained in ever\n",
      "THE SANTA FE MAIL ATTACKED BY INDIANSTWO LIVES LOSTSAFETY OF OTHERS , & C . Washington , Oct . 7 . T\n",
      "New Orleans , Oct . 9 . The steamship Star , from Minatitlan , has arrived , bringing California dat\n",
      "THE CALIFORNIA DUEL . Cincinnati , Oct . 10 . The San Francisco Times of the 14th ult ., received he\n",
      "ANNUAL MEETING OF THE AMERICAN MISSIONARY ASSOCIATION . The annual meeting of the Association is to \n",
      "A . VENERABLE INSTITUTION . There is a mail carrier at Enfield , N . C ., who has carried the mail o\n",
      "Aug . DEAR G ***: Last evening , Mrs . C ----- and myself attended the Presbyterian church , and hea\n",
      "A WOMAN ' S QUESTION .----- Before I trust my fate to thee , Or place my hand in thine , Before I le\n",
      "ST . LOUIS vs . CHICAGO . The Missouri Democrat is becoming alarmed for the commercial interests of \n",
      "We showed , some two weeks ago , by an extended quotation , that Henry Clay was the true author of t\n",
      "THE FREE PRESS IN THE SLAVE STATES . No phase of the growth of Republicanism is more significant tha\n",
      "Washington , Oct . 13 . No action has been taken by the Administration in response to any communicat\n",
      "THREE DAYS LATER FROM CALIFORNIA . St . Louis , Oct . 16 . The overland mail , which arrived last ni\n",
      "It was for a long time supposed that Mount Washington , of the White Mountain group , was the highes\n",
      "CAMP AT GYPSUM SPRINGS . To the Editor of the National Era : Soldiers in general , and cavalry troop\n",
      "A CARD FROM MR . GIDDINGS .- We copy from the Philadelphia North American a card from Mr . Giddings \n",
      "The reporter of the Baltimore American furnishes the following interesting account of a conversation\n",
      "Washington , Oct . 24 . Mr . Greenwood , Commissioner of Indian Affairs , has returned to this city \n",
      "FROM CALIFORNIA . New York , Oct . 24 . The steamer Baltic arrived this evening , bringing Californi\n",
      "AMERICAN SHIP FIRED INTO . Boston , Oct . 24 . Capt . Morton , of the ship Arlington , of Hallowell \n"
     ]
    }
   ],
   "source": [
    "showCluster(5,y_tfidf)"
   ]
  }
 ],
 "metadata": {
  "kernelspec": {
   "display_name": "Python 2",
   "language": "python",
   "name": "python2"
  },
  "language_info": {
   "codemirror_mode": {
    "name": "ipython",
    "version": 2
   },
   "file_extension": ".py",
   "mimetype": "text/x-python",
   "name": "python",
   "nbconvert_exporter": "python",
   "pygments_lexer": "ipython2",
   "version": "2.7.10"
  }
 },
 "nbformat": 4,
 "nbformat_minor": 0
}
